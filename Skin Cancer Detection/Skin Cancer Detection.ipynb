{
 "cells": [
  {
   "cell_type": "markdown",
   "id": "df8b9efb",
   "metadata": {
    "tags": []
   },
   "source": [
    "# GPU setup"
   ]
  },
  {
   "cell_type": "code",
   "execution_count": 1,
   "id": "69bcf67a",
   "metadata": {
    "ExecuteTime": {
     "end_time": "2023-05-18T15:50:23.203209Z",
     "start_time": "2023-05-18T15:50:18.847669Z"
    },
    "execution": {
     "iopub.execute_input": "2023-05-17T09:00:40.662726Z",
     "iopub.status.busy": "2023-05-17T09:00:40.662726Z",
     "iopub.status.idle": "2023-05-17T09:00:46.320391Z",
     "shell.execute_reply": "2023-05-17T09:00:46.320391Z",
     "shell.execute_reply.started": "2023-05-17T09:00:40.662726Z"
    },
    "tags": []
   },
   "outputs": [
    {
     "name": "stdout",
     "output_type": "stream",
     "text": [
      "Num GPUs Available:  1\n",
      "2.10.0\n"
     ]
    },
    {
     "data": {
      "text/plain": [
       "'3.9.16 (main, Mar  8 2023, 10:39:24) [MSC v.1916 64 bit (AMD64)]'"
      ]
     },
     "execution_count": 1,
     "metadata": {},
     "output_type": "execute_result"
    }
   ],
   "source": [
    "import tensorflow as tf\n",
    "from tensorflow import keras\n",
    "print(\"Num GPUs Available: \", len(tf.config.experimental.list_physical_devices('GPU')))\n",
    "tf.test.is_built_with_cuda()\n",
    "print(tf.version.VERSION)\n",
    "import sys\n",
    "sys.version"
   ]
  },
  {
   "cell_type": "markdown",
   "id": "49dd0f33",
   "metadata": {},
   "source": [
    "# Importing Libraries"
   ]
  },
  {
   "cell_type": "code",
   "execution_count": 102,
   "id": "fae35afe",
   "metadata": {
    "ExecuteTime": {
     "end_time": "2023-05-18T17:41:07.107912Z",
     "start_time": "2023-05-18T17:41:06.990506Z"
    },
    "execution": {
     "iopub.execute_input": "2023-05-17T09:01:31.045905Z",
     "iopub.status.busy": "2023-05-17T09:01:31.045905Z",
     "iopub.status.idle": "2023-05-17T09:01:31.063921Z",
     "shell.execute_reply": "2023-05-17T09:01:31.063921Z",
     "shell.execute_reply.started": "2023-05-17T09:01:31.045905Z"
    },
    "tags": []
   },
   "outputs": [],
   "source": [
    "import pandas as pd\n",
    "import numpy as np \n",
    "import os\n",
    "import shutil\n",
    "import glob\n",
    "import sys\n",
    "import random\n",
    "from random import seed\n",
    "import math\n",
    "import tensorflow as tf\n",
    "import seaborn as sns\n",
    "import matplotlib.pyplot as plt\n",
    "from PIL import Image\n",
    "from sklearn.utils import resample\n",
    "from sklearn.metrics import roc_curve, confusion_matrix,accuracy_score,precision_score,recall_score,f1_score\n",
    "from sklearn.model_selection import train_test_split\n",
    "from tensorflow import keras\n",
    "from tensorflow.keras.models import Model,Sequential\n",
    "from tensorflow.keras.utils import to_categorical, plot_model\n",
    "from tensorflow.keras.layers import Flatten,Dense,Dropout,BatchNormalization, Conv2D, GlobalAveragePooling2D, BatchNormalization, Average, PReLU, Input\n",
    "from tensorflow.keras.optimizers import RMSprop, Adam\n",
    "from tensorflow.keras.callbacks import ReduceLROnPlateau\n",
    "from tensorflow.keras.preprocessing.image import ImageDataGenerator "
   ]
  },
  {
   "cell_type": "code",
   "execution_count": 3,
   "id": "e1d8c86e-667b-44d3-980d-f9aa930e434e",
   "metadata": {
    "ExecuteTime": {
     "end_time": "2023-05-18T15:50:23.283353Z",
     "start_time": "2023-05-18T15:50:23.220224Z"
    },
    "execution": {
     "iopub.execute_input": "2023-05-17T09:09:18.022275Z",
     "iopub.status.busy": "2023-05-17T09:09:18.021274Z",
     "iopub.status.idle": "2023-05-17T09:09:18.066314Z",
     "shell.execute_reply": "2023-05-17T09:09:18.065314Z",
     "shell.execute_reply.started": "2023-05-17T09:09:18.022275Z"
    },
    "scrolled": true,
    "tags": []
   },
   "outputs": [
    {
     "data": {
      "text/html": [
       "<div>\n",
       "<style scoped>\n",
       "    .dataframe tbody tr th:only-of-type {\n",
       "        vertical-align: middle;\n",
       "    }\n",
       "\n",
       "    .dataframe tbody tr th {\n",
       "        vertical-align: top;\n",
       "    }\n",
       "\n",
       "    .dataframe thead th {\n",
       "        text-align: right;\n",
       "    }\n",
       "</style>\n",
       "<table border=\"1\" class=\"dataframe\">\n",
       "  <thead>\n",
       "    <tr style=\"text-align: right;\">\n",
       "      <th></th>\n",
       "      <th>image_name</th>\n",
       "      <th>patient_id</th>\n",
       "      <th>sex</th>\n",
       "      <th>age_approx</th>\n",
       "      <th>anatom_site_general_challenge</th>\n",
       "      <th>diagnosis</th>\n",
       "      <th>benign_malignant</th>\n",
       "      <th>target</th>\n",
       "      <th>tfrecord</th>\n",
       "      <th>width</th>\n",
       "      <th>height</th>\n",
       "    </tr>\n",
       "  </thead>\n",
       "  <tbody>\n",
       "    <tr>\n",
       "      <th>0</th>\n",
       "      <td>ISIC_2637011</td>\n",
       "      <td>IP_7279968</td>\n",
       "      <td>male</td>\n",
       "      <td>45.0</td>\n",
       "      <td>head/neck</td>\n",
       "      <td>unknown</td>\n",
       "      <td>benign</td>\n",
       "      <td>0</td>\n",
       "      <td>0</td>\n",
       "      <td>6000</td>\n",
       "      <td>4000</td>\n",
       "    </tr>\n",
       "    <tr>\n",
       "      <th>1</th>\n",
       "      <td>ISIC_0015719</td>\n",
       "      <td>IP_3075186</td>\n",
       "      <td>female</td>\n",
       "      <td>45.0</td>\n",
       "      <td>upper extremity</td>\n",
       "      <td>unknown</td>\n",
       "      <td>benign</td>\n",
       "      <td>0</td>\n",
       "      <td>0</td>\n",
       "      <td>6000</td>\n",
       "      <td>4000</td>\n",
       "    </tr>\n",
       "    <tr>\n",
       "      <th>2</th>\n",
       "      <td>ISIC_0052212</td>\n",
       "      <td>IP_2842074</td>\n",
       "      <td>female</td>\n",
       "      <td>50.0</td>\n",
       "      <td>lower extremity</td>\n",
       "      <td>nevus</td>\n",
       "      <td>benign</td>\n",
       "      <td>0</td>\n",
       "      <td>6</td>\n",
       "      <td>1872</td>\n",
       "      <td>1053</td>\n",
       "    </tr>\n",
       "    <tr>\n",
       "      <th>3</th>\n",
       "      <td>ISIC_0068279</td>\n",
       "      <td>IP_6890425</td>\n",
       "      <td>female</td>\n",
       "      <td>45.0</td>\n",
       "      <td>head/neck</td>\n",
       "      <td>unknown</td>\n",
       "      <td>benign</td>\n",
       "      <td>0</td>\n",
       "      <td>0</td>\n",
       "      <td>1872</td>\n",
       "      <td>1053</td>\n",
       "    </tr>\n",
       "    <tr>\n",
       "      <th>4</th>\n",
       "      <td>ISIC_0074268</td>\n",
       "      <td>IP_8723313</td>\n",
       "      <td>female</td>\n",
       "      <td>55.0</td>\n",
       "      <td>upper extremity</td>\n",
       "      <td>unknown</td>\n",
       "      <td>benign</td>\n",
       "      <td>0</td>\n",
       "      <td>11</td>\n",
       "      <td>6000</td>\n",
       "      <td>4000</td>\n",
       "    </tr>\n",
       "  </tbody>\n",
       "</table>\n",
       "</div>"
      ],
      "text/plain": [
       "     image_name  patient_id     sex  age_approx anatom_site_general_challenge   \n",
       "0  ISIC_2637011  IP_7279968    male        45.0                     head/neck  \\\n",
       "1  ISIC_0015719  IP_3075186  female        45.0               upper extremity   \n",
       "2  ISIC_0052212  IP_2842074  female        50.0               lower extremity   \n",
       "3  ISIC_0068279  IP_6890425  female        45.0                     head/neck   \n",
       "4  ISIC_0074268  IP_8723313  female        55.0               upper extremity   \n",
       "\n",
       "  diagnosis benign_malignant  target  tfrecord  width  height  \n",
       "0   unknown           benign       0         0   6000    4000  \n",
       "1   unknown           benign       0         0   6000    4000  \n",
       "2     nevus           benign       0         6   1872    1053  \n",
       "3   unknown           benign       0         0   1872    1053  \n",
       "4   unknown           benign       0        11   6000    4000  "
      ]
     },
     "execution_count": 3,
     "metadata": {},
     "output_type": "execute_result"
    }
   ],
   "source": [
    "df_train =pd.read_csv(\"C:/Users/MartinDesktop/Documents/Oslomet Master 1.2/ACIT4630/dataset/melanoma256new/train.csv\")\n",
    "df_train.head()"
   ]
  },
  {
   "cell_type": "markdown",
   "id": "3b6b92e4",
   "metadata": {
    "ExecuteTime": {
     "end_time": "2023-05-17T13:17:16.607854Z",
     "start_time": "2023-05-17T13:17:16.602848Z"
    }
   },
   "source": [
    "# Oversampling the malignant class "
   ]
  },
  {
   "cell_type": "code",
   "execution_count": 4,
   "id": "51edc1b8-20bb-42c4-af63-0b7c6df0730e",
   "metadata": {
    "ExecuteTime": {
     "end_time": "2023-05-18T15:50:23.819259Z",
     "start_time": "2023-05-18T15:50:23.284354Z"
    },
    "execution": {
     "iopub.execute_input": "2023-05-17T09:09:28.175950Z",
     "iopub.status.busy": "2023-05-17T09:09:28.175950Z",
     "iopub.status.idle": "2023-05-17T09:09:28.269552Z",
     "shell.execute_reply": "2023-05-17T09:09:28.269552Z",
     "shell.execute_reply.started": "2023-05-17T09:09:28.175950Z"
    },
    "tags": []
   },
   "outputs": [],
   "source": [
    "# Separate data by class\n",
    "majority_data = df_train[df_train['target'] == 0]  # Assuming 'target' column represents the class labels\n",
    "minority_data = df_train[df_train['target'] == 1]\n",
    "\n",
    "# Determine desired number of samples\n",
    "desired_samples = 2584\n",
    "\n",
    "# Randomly oversample the malignant class\n",
    "oversampled_minority_data = resample(minority_data, replace=True, n_samples=desired_samples, random_state=42)\n",
    "\n",
    "# Combine the benign class data with the oversampled malignant class data\n",
    "oversampled_data = pd.concat([majority_data, oversampled_minority_data])\n",
    "\n",
    "# Convert oversampled_data DataFrame to CSV\n",
    "oversampled_data.to_csv('C:/Users/MartinDesktop/Documents/Oslomet Master 1.2/ACIT4630/dataset/melanoma256new/oversampled_data.csv', index=False)\n"
   ]
  },
  {
   "cell_type": "code",
   "execution_count": 5,
   "id": "24f2262d-f7c4-4ee7-b54a-9f9792353746",
   "metadata": {
    "ExecuteTime": {
     "end_time": "2023-05-18T15:50:23.867302Z",
     "start_time": "2023-05-18T15:50:23.820260Z"
    },
    "execution": {
     "iopub.execute_input": "2023-05-17T09:09:29.074513Z",
     "iopub.status.busy": "2023-05-17T09:09:29.073512Z",
     "iopub.status.idle": "2023-05-17T09:09:29.120936Z",
     "shell.execute_reply": "2023-05-17T09:09:29.120936Z",
     "shell.execute_reply.started": "2023-05-17T09:09:29.074513Z"
    },
    "tags": []
   },
   "outputs": [
    {
     "data": {
      "text/html": [
       "<div>\n",
       "<style scoped>\n",
       "    .dataframe tbody tr th:only-of-type {\n",
       "        vertical-align: middle;\n",
       "    }\n",
       "\n",
       "    .dataframe tbody tr th {\n",
       "        vertical-align: top;\n",
       "    }\n",
       "\n",
       "    .dataframe thead th {\n",
       "        text-align: right;\n",
       "    }\n",
       "</style>\n",
       "<table border=\"1\" class=\"dataframe\">\n",
       "  <thead>\n",
       "    <tr style=\"text-align: right;\">\n",
       "      <th></th>\n",
       "      <th>image_name</th>\n",
       "      <th>patient_id</th>\n",
       "      <th>sex</th>\n",
       "      <th>age_approx</th>\n",
       "      <th>anatom_site_general_challenge</th>\n",
       "      <th>diagnosis</th>\n",
       "      <th>benign_malignant</th>\n",
       "      <th>target</th>\n",
       "      <th>tfrecord</th>\n",
       "      <th>width</th>\n",
       "      <th>height</th>\n",
       "    </tr>\n",
       "  </thead>\n",
       "  <tbody>\n",
       "    <tr>\n",
       "      <th>0</th>\n",
       "      <td>ISIC_2637011</td>\n",
       "      <td>IP_7279968</td>\n",
       "      <td>male</td>\n",
       "      <td>45.0</td>\n",
       "      <td>head/neck</td>\n",
       "      <td>unknown</td>\n",
       "      <td>benign</td>\n",
       "      <td>0</td>\n",
       "      <td>0</td>\n",
       "      <td>6000</td>\n",
       "      <td>4000</td>\n",
       "    </tr>\n",
       "    <tr>\n",
       "      <th>1</th>\n",
       "      <td>ISIC_0015719</td>\n",
       "      <td>IP_3075186</td>\n",
       "      <td>female</td>\n",
       "      <td>45.0</td>\n",
       "      <td>upper extremity</td>\n",
       "      <td>unknown</td>\n",
       "      <td>benign</td>\n",
       "      <td>0</td>\n",
       "      <td>0</td>\n",
       "      <td>6000</td>\n",
       "      <td>4000</td>\n",
       "    </tr>\n",
       "    <tr>\n",
       "      <th>2</th>\n",
       "      <td>ISIC_0052212</td>\n",
       "      <td>IP_2842074</td>\n",
       "      <td>female</td>\n",
       "      <td>50.0</td>\n",
       "      <td>lower extremity</td>\n",
       "      <td>nevus</td>\n",
       "      <td>benign</td>\n",
       "      <td>0</td>\n",
       "      <td>6</td>\n",
       "      <td>1872</td>\n",
       "      <td>1053</td>\n",
       "    </tr>\n",
       "    <tr>\n",
       "      <th>3</th>\n",
       "      <td>ISIC_0068279</td>\n",
       "      <td>IP_6890425</td>\n",
       "      <td>female</td>\n",
       "      <td>45.0</td>\n",
       "      <td>head/neck</td>\n",
       "      <td>unknown</td>\n",
       "      <td>benign</td>\n",
       "      <td>0</td>\n",
       "      <td>0</td>\n",
       "      <td>1872</td>\n",
       "      <td>1053</td>\n",
       "    </tr>\n",
       "    <tr>\n",
       "      <th>4</th>\n",
       "      <td>ISIC_0074268</td>\n",
       "      <td>IP_8723313</td>\n",
       "      <td>female</td>\n",
       "      <td>55.0</td>\n",
       "      <td>upper extremity</td>\n",
       "      <td>unknown</td>\n",
       "      <td>benign</td>\n",
       "      <td>0</td>\n",
       "      <td>11</td>\n",
       "      <td>6000</td>\n",
       "      <td>4000</td>\n",
       "    </tr>\n",
       "  </tbody>\n",
       "</table>\n",
       "</div>"
      ],
      "text/plain": [
       "     image_name  patient_id     sex  age_approx anatom_site_general_challenge   \n",
       "0  ISIC_2637011  IP_7279968    male        45.0                     head/neck  \\\n",
       "1  ISIC_0015719  IP_3075186  female        45.0               upper extremity   \n",
       "2  ISIC_0052212  IP_2842074  female        50.0               lower extremity   \n",
       "3  ISIC_0068279  IP_6890425  female        45.0                     head/neck   \n",
       "4  ISIC_0074268  IP_8723313  female        55.0               upper extremity   \n",
       "\n",
       "  diagnosis benign_malignant  target  tfrecord  width  height  \n",
       "0   unknown           benign       0         0   6000    4000  \n",
       "1   unknown           benign       0         0   6000    4000  \n",
       "2     nevus           benign       0         6   1872    1053  \n",
       "3   unknown           benign       0         0   1872    1053  \n",
       "4   unknown           benign       0        11   6000    4000  "
      ]
     },
     "execution_count": 5,
     "metadata": {},
     "output_type": "execute_result"
    }
   ],
   "source": [
    "df_oversampled = pd.read_csv('C:/Users/MartinDesktop/Documents/Oslomet Master 1.2/ACIT4630/dataset/melanoma256new/oversampled_data.csv')\n",
    "df_oversampled.head()"
   ]
  },
  {
   "cell_type": "code",
   "execution_count": 6,
   "id": "768293f9",
   "metadata": {
    "ExecuteTime": {
     "end_time": "2023-05-18T15:50:23.882316Z",
     "start_time": "2023-05-18T15:50:23.868303Z"
    }
   },
   "outputs": [
    {
     "name": "stdout",
     "output_type": "stream",
     "text": [
      "Number of benign images =  32542\n",
      "Number of malignant images =  2584\n",
      "Number of images in total =  35126\n",
      "The ratio of malignant to benign =  0.07940507651650175\n"
     ]
    }
   ],
   "source": [
    "# Calculating the number of benign/malignant images\n",
    "benign = len(df_oversampled[df_oversampled[\"target\"] == 0])\n",
    "malignant = len(df_oversampled[df_oversampled[\"target\"] == 1])\n",
    "total = len(df_oversampled) \n",
    "\n",
    "print(\"Number of benign images = \",benign)\n",
    "print(\"Number of malignant images = \", malignant)\n",
    "print(\"Number of images in total = \",total)\n",
    "print(\"The ratio of malignant to benign = \",malignant/benign)"
   ]
  },
  {
   "cell_type": "code",
   "execution_count": 7,
   "id": "1fe0f15a-ef9f-48fe-8946-f6712257e18f",
   "metadata": {
    "ExecuteTime": {
     "end_time": "2023-05-18T15:50:23.929679Z",
     "start_time": "2023-05-18T15:50:23.909719Z"
    },
    "execution": {
     "iopub.execute_input": "2023-05-17T09:07:47.405723Z",
     "iopub.status.busy": "2023-05-17T09:07:47.405723Z",
     "iopub.status.idle": "2023-05-17T09:07:47.420736Z",
     "shell.execute_reply": "2023-05-17T09:07:47.420736Z",
     "shell.execute_reply.started": "2023-05-17T09:07:47.405723Z"
    }
   },
   "outputs": [
    {
     "name": "stdout",
     "output_type": "stream",
     "text": [
      "<class 'pandas.core.frame.DataFrame'>\n",
      "RangeIndex: 33126 entries, 0 to 33125\n",
      "Data columns (total 11 columns):\n",
      " #   Column                         Non-Null Count  Dtype  \n",
      "---  ------                         --------------  -----  \n",
      " 0   image_name                     33126 non-null  object \n",
      " 1   patient_id                     33126 non-null  object \n",
      " 2   sex                            33061 non-null  object \n",
      " 3   age_approx                     33058 non-null  float64\n",
      " 4   anatom_site_general_challenge  32599 non-null  object \n",
      " 5   diagnosis                      33126 non-null  object \n",
      " 6   benign_malignant               33126 non-null  object \n",
      " 7   target                         33126 non-null  int64  \n",
      " 8   tfrecord                       33126 non-null  int64  \n",
      " 9   width                          33126 non-null  int64  \n",
      " 10  height                         33126 non-null  int64  \n",
      "dtypes: float64(1), int64(4), object(6)\n",
      "memory usage: 2.8+ MB\n"
     ]
    }
   ],
   "source": [
    "df_train.info()"
   ]
  },
  {
   "cell_type": "code",
   "execution_count": 8,
   "id": "59851a98-0dbf-4ac5-a087-b01f15785d4b",
   "metadata": {
    "ExecuteTime": {
     "end_time": "2023-05-18T15:50:24.328287Z",
     "start_time": "2023-05-18T15:50:24.307765Z"
    },
    "execution": {
     "iopub.execute_input": "2023-05-17T09:07:29.568729Z",
     "iopub.status.busy": "2023-05-17T09:07:29.568729Z",
     "iopub.status.idle": "2023-05-17T09:07:29.599758Z",
     "shell.execute_reply": "2023-05-17T09:07:29.599758Z",
     "shell.execute_reply.started": "2023-05-17T09:07:29.568729Z"
    }
   },
   "outputs": [
    {
     "name": "stdout",
     "output_type": "stream",
     "text": [
      "<class 'pandas.core.frame.DataFrame'>\n",
      "RangeIndex: 35126 entries, 0 to 35125\n",
      "Data columns (total 11 columns):\n",
      " #   Column                         Non-Null Count  Dtype  \n",
      "---  ------                         --------------  -----  \n",
      " 0   image_name                     35126 non-null  object \n",
      " 1   patient_id                     35126 non-null  object \n",
      " 2   sex                            35061 non-null  object \n",
      " 3   age_approx                     35058 non-null  float64\n",
      " 4   anatom_site_general_challenge  34573 non-null  object \n",
      " 5   diagnosis                      35126 non-null  object \n",
      " 6   benign_malignant               35126 non-null  object \n",
      " 7   target                         35126 non-null  int64  \n",
      " 8   tfrecord                       35126 non-null  int64  \n",
      " 9   width                          35126 non-null  int64  \n",
      " 10  height                         35126 non-null  int64  \n",
      "dtypes: float64(1), int64(4), object(6)\n",
      "memory usage: 2.9+ MB\n"
     ]
    }
   ],
   "source": [
    "df_oversampled.info()"
   ]
  },
  {
   "cell_type": "markdown",
   "id": "deccdcb6",
   "metadata": {},
   "source": [
    "# Setting up the global parameters"
   ]
  },
  {
   "cell_type": "code",
   "execution_count": 9,
   "id": "2b0c0eac-9e6a-4776-b70a-c438a3580446",
   "metadata": {
    "ExecuteTime": {
     "end_time": "2023-05-18T15:50:25.567419Z",
     "start_time": "2023-05-18T15:50:25.559909Z"
    },
    "execution": {
     "iopub.execute_input": "2023-05-17T09:10:47.274232Z",
     "iopub.status.busy": "2023-05-17T09:10:47.274232Z",
     "iopub.status.idle": "2023-05-17T09:10:47.288244Z",
     "shell.execute_reply": "2023-05-17T09:10:47.288244Z",
     "shell.execute_reply.started": "2023-05-17T09:10:47.274232Z"
    },
    "tags": []
   },
   "outputs": [],
   "source": [
    "# Creating a config class for all configurations\n",
    "\n",
    "class configs:\n",
    "    # Paths for directory and tabular data\n",
    "    \n",
    "    base_dir = 'C:/Users/MartinDesktop/Documents/Oslomet Master 1.2/ACIT4630/dataset/melanoma256new/'\n",
    "    train_dir = 'C:/Users/MartinDesktop/Documents/Oslomet Master 1.2/ACIT4630/dataset/melanoma256new/train/'\n",
    "    test_dir = 'C:/Users/MartinDesktop/Documents/Oslomet Master 1.2/ACIT4630/dataset/melanoma256new/test/'\n",
    "    train_data = 'C:/Users/MartinDesktop/Documents/Oslomet Master 1.2/ACIT4630/dataset/melanoma256new/train.csv'\n",
    "    test_data = 'C:/Users/MartinDesktop/Documents/Oslomet Master 1.2/ACIT4630/dataset/melanoma256new/test.csv'\n",
    "    overs_data = 'C:/Users/MartinDesktop/Documents/Oslomet Master 1.2/ACIT4630/dataset/melanoma256new/oversampled_data.csv'\n",
    "    \n",
    "    # New path for image data\n",
    "    work_dir = 'C:/Users/MartinDesktop/Documents/Oslomet Master 1.2/ACIT4630/JupyterNotebook/dataset/'\n",
    "    train_img = 'C:/Users/MartinDesktop/Documents/Oslomet Master 1.2/ACIT4630/JupyterNotebook/dataset/train_set/'\n",
    "    test_img = 'C:/Users/MartinDesktop/Documents/Oslomet Master 1.2/ACIT4630/JupyterNotebook/dataset/test_set/'\n",
    "    val_img = 'C:/Users/MartinDesktop/Documents/Oslomet Master 1.2/ACIT4630/JupyterNotebook/dataset/val_set/'\n",
    "    \n",
    "    # Parameters for preprocessing\n",
    "    aim = \"target\"\n",
    "    train_size = 0.80\n",
    "    val_size = 0.10\n",
    "    test_size = 0.10\n",
    "    random_seed = 42\n",
    "    \n",
    "    # For model training\n",
    "    img_size= (224,224)\n",
    "    batch_size=64\n",
    "    epochs=15\n"
   ]
  },
  {
   "cell_type": "markdown",
   "id": "aad06527",
   "metadata": {},
   "source": [
    "# Splitting the dataset"
   ]
  },
  {
   "cell_type": "code",
   "execution_count": 10,
   "id": "1eb20cbc",
   "metadata": {
    "ExecuteTime": {
     "end_time": "2023-05-18T15:50:26.672196Z",
     "start_time": "2023-05-18T15:50:26.558024Z"
    }
   },
   "outputs": [],
   "source": [
    "# Create the 'image_path' column\n",
    "df_oversampled['image_path'] = configs.train_dir + df_oversampled['image_name'] + '.jpg'\n",
    "\n",
    "# Separate the features (X) and the target (y)\n",
    "X = df_oversampled['image_path']\n",
    "y = df_oversampled['target']\n",
    "\n",
    "# Split the data into a training set and a temporary set (containing validation and test data)\n",
    "X_train, X_temp, y_train, y_temp = train_test_split(X, y, test_size=0.2, random_state=configs.random_seed, stratify=y)\n",
    "\n",
    "# Split the temporary set into validation and test sets\n",
    "X_val, X_test, y_val, y_test = train_test_split(X_temp, y_temp, test_size=0.5, random_state=configs.random_seed, stratify=y_temp)\n",
    "\n",
    "# Convert the split data back into DataFrames\n",
    "df_train = pd.DataFrame({'image_path': X_train, 'target': y_train})\n",
    "df_val = pd.DataFrame({'image_path': X_val, 'target': y_val})\n",
    "df_test = pd.DataFrame({'image_path': X_test, 'target': y_test})\n"
   ]
  },
  {
   "cell_type": "code",
   "execution_count": 11,
   "id": "5204bea1",
   "metadata": {
    "ExecuteTime": {
     "end_time": "2023-05-18T15:50:27.170842Z",
     "start_time": "2023-05-18T15:50:27.150081Z"
    }
   },
   "outputs": [],
   "source": [
    "# Convert the 'target' columns to string\n",
    "df_train['target'] = df_train['target'].astype(str)\n",
    "df_val['target'] = df_val['target'].astype(str)\n",
    "df_test['target'] = df_test['target'].astype(str)"
   ]
  },
  {
   "cell_type": "markdown",
   "id": "ee35c992",
   "metadata": {},
   "source": [
    "# Defining Callbacks, Metrics and Class weights"
   ]
  },
  {
   "cell_type": "code",
   "execution_count": 12,
   "id": "cea727b0",
   "metadata": {
    "ExecuteTime": {
     "end_time": "2023-05-18T15:50:29.265753Z",
     "start_time": "2023-05-18T15:50:28.379476Z"
    },
    "execution": {
     "iopub.execute_input": "2023-05-17T09:05:12.141211Z",
     "iopub.status.busy": "2023-05-17T09:05:12.141211Z",
     "iopub.status.idle": "2023-05-17T09:05:12.144206Z",
     "shell.execute_reply": "2023-05-17T09:05:12.144206Z",
     "shell.execute_reply.started": "2023-05-17T09:05:12.141211Z"
    },
    "tags": []
   },
   "outputs": [],
   "source": [
    "from tensorflow.keras.callbacks import EarlyStopping\n",
    "# Monitoring precision\n",
    "callbacks = [\n",
    "    #tf.keras.callbacks.EarlyStopping(monitor=\"val_loss\", patience=3),\n",
    "    tf.keras.callbacks.EarlyStopping(monitor=\"precision\", verbose=1, patience=20),\n",
    "    #tf.keras.callbacks.ModelCheckpoint(filepath='model.{epoch:02d}-{val_loss:.2f}.h5'),\n",
    "    tf.keras.callbacks.TensorBoard(log_dir='./logs')\n",
    "]\n",
    "\n",
    "# Creating a list of metrics to be used in training\n",
    "METRICS = [[keras.metrics.BinaryAccuracy(name='accuracy'), \n",
    "            keras.metrics.Precision(name='precision'),\n",
    "            keras.metrics.Recall(name='recall'),\n",
    "            keras.metrics.AUC(name='auc')]]\n",
    "\n",
    "class_weights = {0: malignant / total, \n",
    "                 1: benign / total}"
   ]
  },
  {
   "cell_type": "code",
   "execution_count": 103,
   "id": "81bd9600",
   "metadata": {
    "ExecuteTime": {
     "end_time": "2023-05-18T17:42:49.646111Z",
     "start_time": "2023-05-18T17:42:49.631596Z"
    }
   },
   "outputs": [],
   "source": [
    "# Define the labels\n",
    "class_names = ['Benign', 'Malignant'] # adjust this according to your need"
   ]
  },
  {
   "cell_type": "markdown",
   "id": "48ce9065",
   "metadata": {},
   "source": [
    "# VGG 19"
   ]
  },
  {
   "cell_type": "code",
   "execution_count": 40,
   "id": "52faf56c",
   "metadata": {
    "ExecuteTime": {
     "end_time": "2023-05-18T16:12:12.615291Z",
     "start_time": "2023-05-18T16:12:11.634451Z"
    }
   },
   "outputs": [
    {
     "name": "stdout",
     "output_type": "stream",
     "text": [
      "Found 28100 validated image filenames belonging to 2 classes.\n",
      "Found 3513 validated image filenames belonging to 2 classes.\n"
     ]
    }
   ],
   "source": [
    "from keras.applications.vgg19 import preprocess_input\n",
    "\n",
    "train_data_gen = ImageDataGenerator(\n",
    "    preprocessing_function=preprocess_input,\n",
    "    rotation_range=20,\n",
    "    shear_range=0.2,\n",
    "    zoom_range=(0.95, 0.95),\n",
    "    horizontal_flip=True,\n",
    "    vertical_flip=True,\n",
    "    fill_mode='nearest'\n",
    ")\n",
    "\n",
    "validation_data_gen = ImageDataGenerator(\n",
    "    preprocessing_function=preprocess_input,\n",
    ")\n",
    "\n",
    "# Create a generator for training data\n",
    "train_generator = train_data_gen.flow_from_dataframe(\n",
    "    df_train,    # Provide DataFrame here\n",
    "    x_col='image_path',    # Column in df_train that contains the full path to each image\n",
    "    y_col='target',    # Column in df_train that contains the labels\n",
    "    target_size=(configs.img_size),\n",
    "    batch_size=configs.batch_size,\n",
    "    class_mode='binary',\n",
    "    shuffle=True\n",
    ")\n",
    "\n",
    "# Create a generator for validation data\n",
    "validation_generator = validation_data_gen.flow_from_dataframe(\n",
    "    df_val,    # Provide DataFrame here\n",
    "    x_col='image_path',    # Column in df_val that contains the full path to each image\n",
    "    y_col='target',    # Column in df_val that contains the labels\n",
    "    target_size=(configs.img_size),\n",
    "    batch_size=configs.batch_size,\n",
    "    class_mode='binary',\n",
    "    shuffle=True\n",
    ")\n"
   ]
  },
  {
   "cell_type": "code",
   "execution_count": 41,
   "id": "99c887ad-ba06-4ccf-abdb-06e1e249ea1f",
   "metadata": {
    "ExecuteTime": {
     "end_time": "2023-05-18T16:12:13.125671Z",
     "start_time": "2023-05-18T16:12:13.119611Z"
    },
    "tags": []
   },
   "outputs": [],
   "source": [
    "steps_train = train_generator.n // train_generator.batch_size\n",
    "steps_val = validation_generator.n // validation_generator.batch_size"
   ]
  },
  {
   "cell_type": "code",
   "execution_count": 50,
   "id": "e892b1e4",
   "metadata": {
    "ExecuteTime": {
     "end_time": "2023-05-18T16:13:48.833074Z",
     "start_time": "2023-05-18T16:13:48.544679Z"
    }
   },
   "outputs": [
    {
     "name": "stdout",
     "output_type": "stream",
     "text": [
      "Model: \"sequential_8\"\n",
      "_________________________________________________________________\n",
      " Layer (type)                Output Shape              Param #   \n",
      "=================================================================\n",
      " vgg19 (Functional)          (None, None, None, 512)   20024384  \n",
      "                                                                 \n",
      " global_average_pooling2d_3   (None, 512)              0         \n",
      " (GlobalAveragePooling2D)                                        \n",
      "                                                                 \n",
      " dense_21 (Dense)            (None, 256)               131328    \n",
      "                                                                 \n",
      " dropout_13 (Dropout)        (None, 256)               0         \n",
      "                                                                 \n",
      " dense_22 (Dense)            (None, 128)               32896     \n",
      "                                                                 \n",
      " dropout_14 (Dropout)        (None, 128)               0         \n",
      "                                                                 \n",
      " dense_23 (Dense)            (None, 1)                 129       \n",
      "                                                                 \n",
      "=================================================================\n",
      "Total params: 20,188,737\n",
      "Trainable params: 164,353\n",
      "Non-trainable params: 20,024,384\n",
      "_________________________________________________________________\n"
     ]
    }
   ],
   "source": [
    "from tensorflow.keras.applications.vgg19 import VGG19\n",
    "from tensorflow.keras.regularizers import l2\n",
    "\n",
    "base_model_1=VGG19(include_top=False, weights='imagenet')\n",
    "\n",
    "for layer in base_model_1.layers:\n",
    "    layer.trainable=False\n",
    "    \n",
    "model_1=Sequential()\n",
    "model_1.add(base_model_1)\n",
    "\n",
    "model_1.add(GlobalAveragePooling2D())\n",
    "model_1.add(Dense(256,activation='relu',kernel_regularizer='l2'))\n",
    "model_1.add(Dropout(0.4))\n",
    "model_1.add(Dense(128,activation='relu',kernel_regularizer='l2'))\n",
    "model_1.add(Dropout(0.3))\n",
    "model_1.add(Dense(1,activation='sigmoid'))\n",
    "            \n",
    "\n",
    "model_1.summary()"
   ]
  },
  {
   "cell_type": "code",
   "execution_count": 51,
   "id": "b588c794",
   "metadata": {
    "ExecuteTime": {
     "end_time": "2023-05-18T16:13:49.469867Z",
     "start_time": "2023-05-18T16:13:49.459354Z"
    },
    "tags": []
   },
   "outputs": [],
   "source": [
    "# Compiling the model\n",
    "model_1.compile(optimizer=Adam(learning_rate=1e-4), loss='binary_crossentropy', metrics=METRICS)"
   ]
  },
  {
   "cell_type": "code",
   "execution_count": 52,
   "id": "15778b75",
   "metadata": {
    "ExecuteTime": {
     "end_time": "2023-05-18T16:58:10.434572Z",
     "start_time": "2023-05-18T16:13:50.583730Z"
    },
    "scrolled": true,
    "tags": []
   },
   "outputs": [
    {
     "name": "stdout",
     "output_type": "stream",
     "text": [
      "Epoch 1/15\n",
      "439/439 [==============================] - 185s 412ms/step - loss: 3.4085 - accuracy: 0.6784 - precision: 0.1456 - recall: 0.6924 - auc: 0.7498 - val_loss: 2.4994 - val_accuracy: 0.7407 - val_precision: 0.1877 - val_recall: 0.7598 - val_auc: 0.8316\n",
      "Epoch 2/15\n",
      "439/439 [==============================] - 183s 417ms/step - loss: 1.3734 - accuracy: 0.7061 - precision: 0.1653 - recall: 0.7392 - auc: 0.7955 - val_loss: 1.2323 - val_accuracy: 0.7983 - val_precision: 0.2246 - val_recall: 0.7154 - val_auc: 0.8443\n",
      "Epoch 3/15\n",
      "439/439 [==============================] - 177s 404ms/step - loss: 0.6160 - accuracy: 0.7265 - precision: 0.1816 - recall: 0.7746 - auc: 0.8234 - val_loss: 0.8558 - val_accuracy: 0.7436 - val_precision: 0.1946 - val_recall: 0.7752 - val_auc: 0.8473\n",
      "Epoch 4/15\n",
      "439/439 [==============================] - 176s 400ms/step - loss: 0.3241 - accuracy: 0.7276 - precision: 0.1850 - recall: 0.7943 - auc: 0.8344 - val_loss: 0.6448 - val_accuracy: 0.7639 - val_precision: 0.2077 - val_recall: 0.7773 - val_auc: 0.8522\n",
      "Epoch 5/15\n",
      "439/439 [==============================] - 179s 408ms/step - loss: 0.1985 - accuracy: 0.7332 - precision: 0.1931 - recall: 0.8247 - auc: 0.8455 - val_loss: 0.5550 - val_accuracy: 0.7624 - val_precision: 0.2064 - val_recall: 0.7804 - val_auc: 0.8551\n",
      "Epoch 6/15\n",
      "439/439 [==============================] - 181s 413ms/step - loss: 0.1403 - accuracy: 0.7257 - precision: 0.1856 - recall: 0.8059 - auc: 0.8427 - val_loss: 0.5848 - val_accuracy: 0.7133 - val_precision: 0.1810 - val_recall: 0.8228 - val_auc: 0.8576\n",
      "Epoch 7/15\n",
      "439/439 [==============================] - 176s 400ms/step - loss: 0.1093 - accuracy: 0.7293 - precision: 0.1897 - recall: 0.8192 - auc: 0.8486 - val_loss: 0.5774 - val_accuracy: 0.7222 - val_precision: 0.1852 - val_recall: 0.8086 - val_auc: 0.8515\n",
      "Epoch 8/15\n",
      "439/439 [==============================] - 175s 399ms/step - loss: 0.0928 - accuracy: 0.7253 - precision: 0.1880 - recall: 0.8219 - auc: 0.8500 - val_loss: 0.4240 - val_accuracy: 0.8038 - val_precision: 0.2307 - val_recall: 0.7194 - val_auc: 0.8603\n",
      "Epoch 9/15\n",
      "439/439 [==============================] - 173s 394ms/step - loss: 0.0835 - accuracy: 0.7351 - precision: 0.1947 - recall: 0.8302 - auc: 0.8550 - val_loss: 0.5020 - val_accuracy: 0.7526 - val_precision: 0.1994 - val_recall: 0.7804 - val_auc: 0.8574\n",
      "Epoch 10/15\n",
      "439/439 [==============================] - 172s 392ms/step - loss: 0.0793 - accuracy: 0.7304 - precision: 0.1920 - recall: 0.8295 - auc: 0.8527 - val_loss: 0.5639 - val_accuracy: 0.7023 - val_precision: 0.1799 - val_recall: 0.8444 - val_auc: 0.8589\n",
      "Epoch 11/15\n",
      "439/439 [==============================] - 172s 392ms/step - loss: 0.0765 - accuracy: 0.7315 - precision: 0.1900 - recall: 0.8132 - auc: 0.8529 - val_loss: 0.4996 - val_accuracy: 0.7457 - val_precision: 0.1992 - val_recall: 0.8016 - val_auc: 0.8632\n",
      "Epoch 12/15\n",
      "439/439 [==============================] - 174s 395ms/step - loss: 0.0747 - accuracy: 0.7363 - precision: 0.1948 - recall: 0.8241 - auc: 0.8552 - val_loss: 0.4735 - val_accuracy: 0.7714 - val_precision: 0.2149 - val_recall: 0.7953 - val_auc: 0.8667\n",
      "Epoch 13/15\n",
      "439/439 [==============================] - 180s 409ms/step - loss: 0.0736 - accuracy: 0.7420 - precision: 0.1964 - recall: 0.8113 - auc: 0.8549 - val_loss: 0.5339 - val_accuracy: 0.7248 - val_precision: 0.1869 - val_recall: 0.8189 - val_auc: 0.8641\n",
      "Epoch 14/15\n",
      "439/439 [==============================] - 179s 407ms/step - loss: 0.0722 - accuracy: 0.7398 - precision: 0.1974 - recall: 0.8270 - auc: 0.8587 - val_loss: 0.4257 - val_accuracy: 0.7969 - val_precision: 0.2306 - val_recall: 0.7364 - val_auc: 0.8662\n",
      "Epoch 15/15\n",
      "439/439 [==============================] - 177s 403ms/step - loss: 0.0720 - accuracy: 0.7386 - precision: 0.1966 - recall: 0.8266 - auc: 0.8570 - val_loss: 0.5130 - val_accuracy: 0.7352 - val_precision: 0.1937 - val_recall: 0.8093 - val_auc: 0.8625\n",
      "CPU times: total: 46min 4s\n",
      "Wall time: 44min 19s\n"
     ]
    }
   ],
   "source": [
    "%%time\n",
    "history_1 = model_1.fit(\n",
    "              train_generator,\n",
    "              steps_per_epoch = train_generator.samples // configs.batch_size,\n",
    "              validation_data = validation_generator, \n",
    "              validation_steps = validation_generator.samples // configs.batch_size,\n",
    "              validation_freq=1,\n",
    "              epochs = configs.epochs,\n",
    "              class_weight=class_weights,\n",
    "              callbacks=callbacks\n",
    ")"
   ]
  },
  {
   "cell_type": "code",
   "execution_count": 53,
   "id": "b546487b-69bc-4143-924a-c426ea563658",
   "metadata": {
    "ExecuteTime": {
     "end_time": "2023-05-18T16:58:26.910400Z",
     "start_time": "2023-05-18T16:58:26.819250Z"
    }
   },
   "outputs": [],
   "source": [
    "# Saving the model\n",
    "model_1.save('C:/Users/MartinDesktop/Documents/Oslomet Master 1.2/ACIT4630/JupyterNotebook/all_models/model1.h5')"
   ]
  },
  {
   "cell_type": "code",
   "execution_count": 54,
   "id": "6ab2b930-2da6-4803-b847-7ee3317b87da",
   "metadata": {
    "ExecuteTime": {
     "end_time": "2023-05-18T16:58:36.282093Z",
     "start_time": "2023-05-18T16:58:27.862439Z"
    },
    "tags": []
   },
   "outputs": [
    {
     "name": "stdout",
     "output_type": "stream",
     "text": [
      "54/54 [==============================] - 8s 151ms/step - loss: 0.5107 - accuracy: 0.7355 - precision: 0.1923 - recall: 0.8078 - auc: 0.8633\n"
     ]
    },
    {
     "data": {
      "text/plain": [
       "[0.5107312798500061,\n",
       " 0.7355324029922485,\n",
       " 0.192343607544899,\n",
       " 0.8078431487083435,\n",
       " 0.8632504343986511]"
      ]
     },
     "execution_count": 54,
     "metadata": {},
     "output_type": "execute_result"
    }
   ],
   "source": [
    "# Taking the validation set and evaluating the model\n",
    "model_1.evaluate(validation_generator, steps=steps_val)"
   ]
  },
  {
   "cell_type": "code",
   "execution_count": 55,
   "id": "1c4773f4",
   "metadata": {
    "ExecuteTime": {
     "end_time": "2023-05-18T16:58:46.206125Z",
     "start_time": "2023-05-18T16:58:45.983075Z"
    }
   },
   "outputs": [
    {
     "name": "stdout",
     "output_type": "stream",
     "text": [
      "Found 3513 validated image filenames belonging to 2 classes.\n"
     ]
    }
   ],
   "source": [
    "# Creating a test generator for test data\n",
    "test_datagen = ImageDataGenerator(\n",
    "    preprocessing_function=preprocess_input,\n",
    ")\n",
    "\n",
    "test_generator = test_datagen.flow_from_dataframe(\n",
    "    df_test,    # Provide DataFrame here\n",
    "    x_col='image_path',    # Column in df_val that contains the full path to each image\n",
    "    y_col='target',    # Column in df_val that contains the labels\n",
    "    target_size=(configs.img_size),\n",
    "    batch_size=configs.batch_size,\n",
    "    class_mode='binary',\n",
    "    shuffle=True\n",
    ")\n"
   ]
  },
  {
   "cell_type": "code",
   "execution_count": 56,
   "id": "ea0c30df-ce52-4368-abb8-8ec58eef2199",
   "metadata": {
    "ExecuteTime": {
     "end_time": "2023-05-18T16:59:05.323636Z",
     "start_time": "2023-05-18T16:59:05.311112Z"
    },
    "tags": []
   },
   "outputs": [],
   "source": [
    "steps_test = test_generator.n // test_generator.batch_size"
   ]
  },
  {
   "cell_type": "code",
   "execution_count": 57,
   "id": "2a254e64",
   "metadata": {
    "ExecuteTime": {
     "end_time": "2023-05-18T16:59:05.741657Z",
     "start_time": "2023-05-18T16:59:05.731639Z"
    }
   },
   "outputs": [],
   "source": [
    "test_examples = test_generator.n"
   ]
  },
  {
   "cell_type": "code",
   "execution_count": 58,
   "id": "069a7adf-e415-4fea-ba5b-16850d2023be",
   "metadata": {
    "ExecuteTime": {
     "end_time": "2023-05-18T16:59:09.317940Z",
     "start_time": "2023-05-18T16:59:06.204329Z"
    },
    "tags": []
   },
   "outputs": [
    {
     "data": {
      "text/plain": [
       "array([0., 0., 0., ..., 0., 0., 0.])"
      ]
     },
     "execution_count": 58,
     "metadata": {},
     "output_type": "execute_result"
    }
   ],
   "source": [
    "# Getting the classes of the test dataset\n",
    "y_test = np.array([])\n",
    "num_batches = 0\n",
    "for _, y in test_generator:\n",
    "    y_test = np.append(y_test, y)\n",
    "    num_batches += 1\n",
    "    if num_batches == math.ceil(test_examples / configs.batch_size):\n",
    "        break\n",
    "y_test"
   ]
  },
  {
   "cell_type": "code",
   "execution_count": 59,
   "id": "bc78fedd-0140-4739-b682-bb101fb4ceb7",
   "metadata": {
    "ExecuteTime": {
     "end_time": "2023-05-18T16:59:23.094048Z",
     "start_time": "2023-05-18T16:59:09.809830Z"
    },
    "tags": []
   },
   "outputs": [
    {
     "name": "stdout",
     "output_type": "stream",
     "text": [
      "55/55 [==============================] - 13s 232ms/step\n"
     ]
    },
    {
     "data": {
      "text/plain": [
       "array([[0.07587112],\n",
       "       [0.16436632],\n",
       "       [0.08650973],\n",
       "       ...,\n",
       "       [0.15486112],\n",
       "       [0.28835443],\n",
       "       [0.82721937]], dtype=float32)"
      ]
     },
     "execution_count": 59,
     "metadata": {},
     "output_type": "execute_result"
    }
   ],
   "source": [
    "# Predicting output on the test set\n",
    "y_pred = model_1.predict(test_generator)\n",
    "y_pred"
   ]
  },
  {
   "cell_type": "code",
   "execution_count": 60,
   "id": "a0e3252c-6ecb-4c3d-b2d9-4ede4ea1bbfb",
   "metadata": {
    "ExecuteTime": {
     "end_time": "2023-05-18T16:59:23.109221Z",
     "start_time": "2023-05-18T16:59:23.095049Z"
    },
    "tags": []
   },
   "outputs": [],
   "source": [
    "# Computing the TPR and FPR values from the roc curve\n",
    "fpr, tpr, thresholds = roc_curve(y_test, y_pred)"
   ]
  },
  {
   "cell_type": "code",
   "execution_count": 61,
   "id": "913e6dbc-ca96-4661-a300-23f2bc14bc8e",
   "metadata": {
    "ExecuteTime": {
     "end_time": "2023-05-18T16:59:23.202227Z",
     "start_time": "2023-05-18T16:59:23.110289Z"
    },
    "tags": []
   },
   "outputs": [
    {
     "data": {
      "image/png": "[encoded data removed]",
      "text/plain": [
       "<Figure size 640x480 with 1 Axes>"
      ]
     },
     "metadata": {},
     "output_type": "display_data"
    }
   ],
   "source": [
    "# Plotting the ROC curve\n",
    "def plot_roc_curve (fpr, tpr, label = None):\n",
    "    plt.plot(fpr, tpr, linewidth = 2, label = label)\n",
    "    plt.plot([0,1], [0,1], 'k--') # Dashed diagonal\n",
    "    plt.xlabel(\"False Positive Rate\")\n",
    "    plt.ylabel(\"True Positive Rate (Recall)\")\n",
    "    plt.grid()\n",
    "    \n",
    "plot_roc_curve(fpr, tpr)\n",
    "plt.show()"
   ]
  },
  {
   "cell_type": "code",
   "execution_count": 62,
   "id": "8da3b3bd-c4f7-4c79-b1dd-a5079c9ae2ff",
   "metadata": {
    "ExecuteTime": {
     "end_time": "2023-05-18T16:59:31.713143Z",
     "start_time": "2023-05-18T16:59:23.204230Z"
    },
    "tags": []
   },
   "outputs": [
    {
     "name": "stdout",
     "output_type": "stream",
     "text": [
      "54/54 [==============================] - 8s 154ms/step - loss: 0.5332 - accuracy: 0.7231 - precision: 0.1831 - recall: 0.8127 - auc: 0.8503\n"
     ]
    },
    {
     "data": {
      "text/plain": [
       "[0.5331851840019226,\n",
       " 0.7230902910232544,\n",
       " 0.1831238716840744,\n",
       " 0.8127490282058716,\n",
       " 0.8503185510635376]"
      ]
     },
     "execution_count": 62,
     "metadata": {},
     "output_type": "execute_result"
    }
   ],
   "source": [
    "# Taking the test set and evaluating the model\n",
    "model_1.evaluate(test_generator, steps=steps_test)"
   ]
  },
  {
   "cell_type": "code",
   "execution_count": 151,
   "id": "3f1f8f07",
   "metadata": {
    "ExecuteTime": {
     "end_time": "2023-05-19T06:20:12.421045Z",
     "start_time": "2023-05-19T06:20:12.111149Z"
    },
    "scrolled": false,
    "tags": []
   },
   "outputs": [
    {
     "data": {
      "image/png": "[encoded data removed]",
      "text/plain": [
       "<Figure size 640x480 with 1 Axes>"
      ]
     },
     "metadata": {},
     "output_type": "display_data"
    },
    {
     "data": {
      "image/png": "[encoded data removed]",
      "text/plain": [
       "<Figure size 640x480 with 1 Axes>"
      ]
     },
     "metadata": {},
     "output_type": "display_data"
    },
    {
     "data": {
      "image/png": "[encoded data removed]",
      "text/plain": [
       "<Figure size 640x480 with 1 Axes>"
      ]
     },
     "metadata": {},
     "output_type": "display_data"
    }
   ],
   "source": [
    "# Summarize history for accuracy\n",
    "plt.plot(history_1.history['accuracy'])\n",
    "plt.plot(history_1.history['val_accuracy'])\n",
    "plt.title('VGG-19 model Accuracy')\n",
    "plt.ylabel('Accuracy')\n",
    "plt.xlabel('epoch')\n",
    "plt.legend(['train', 'validation'], loc='upper left')\n",
    "plt.show()\n",
    "# Summarize history for AUC\n",
    "plt.plot(history_1.history['auc'])\n",
    "plt.plot(history_1.history['val_auc'])\n",
    "plt.title('VGG-19 model auc')\n",
    "plt.ylabel('auc')\n",
    "plt.xlabel('epoch')\n",
    "plt.legend(['train', 'validation'], loc='upper left')\n",
    "plt.show()\n",
    "# Summarize history for loss\n",
    "plt.plot(history_1.history['loss'])\n",
    "plt.plot(history_1.history['val_loss'])\n",
    "plt.title('VGG-19 model loss')\n",
    "plt.ylabel('loss')\n",
    "plt.xlabel('epoch')\n",
    "plt.legend(['train', 'validation'], loc='upper left')\n",
    "plt.show()"
   ]
  },
  {
   "cell_type": "code",
   "execution_count": 153,
   "id": "e9e4ffe4-94ff-4c2f-863a-3c3cf5022752",
   "metadata": {
    "ExecuteTime": {
     "end_time": "2023-05-19T06:22:11.778434Z",
     "start_time": "2023-05-19T06:22:11.755839Z"
    },
    "tags": []
   },
   "outputs": [
    {
     "name": "stdout",
     "output_type": "stream",
     "text": [
      "Confusion matrix:  [[3213   42]\n",
      " [ 255    3]]\n",
      "Accuracy:  0.9154568744662681\n",
      "ROC-AUC:  0.4993623405851463\n",
      "Precision:  0.06666666666666667\n",
      "Recall:  0.011627906976744186\n",
      "F1-Score:  0.0198019801980198\n"
     ]
    }
   ],
   "source": [
    "# y_pred is the array of predicted probabilities\n",
    "y_pred_binary = (y_pred > 0.5).astype(int)\n",
    "\n",
    "# Generate confusion matrix for the predictions\n",
    "conf_matrix = confusion_matrix(y_test, y_pred_binary)\n",
    "accuracy = accuracy_score(y_test, y_pred_binary)\n",
    "roc_auc = roc_auc_score(y_test, y_pred_binary)\n",
    "precision = precision_score(y_test, y_pred_binary)\n",
    "recall = recall_score(y_test, y_pred_binary)\n",
    "f1 = f1_score(y_test, y_pred_binary)\n",
    "\n",
    "print(\"Confusion matrix: \", conf_matrix)\n",
    "print(\"Accuracy: \", accuracy)\n",
    "print(\"ROC-AUC: \", roc_auc)\n",
    "print(\"Precision: \", precision)\n",
    "print(\"Recall: \", recall)\n",
    "print(\"F1-Score: \", f1)"
   ]
  },
  {
   "cell_type": "code",
   "execution_count": 109,
   "id": "7a574725",
   "metadata": {
    "ExecuteTime": {
     "end_time": "2023-05-18T17:44:41.515985Z",
     "start_time": "2023-05-18T17:44:41.454846Z"
    }
   },
   "outputs": [
    {
     "data": {
      "image/png": "[encoded data removed]",
      "text/plain": [
       "<Figure size 640x480 with 1 Axes>"
      ]
     },
     "metadata": {},
     "output_type": "display_data"
    }
   ],
   "source": [
    "fig, ax = plt.subplots()\n",
    "\n",
    "# Create a heatmap\n",
    "sns.heatmap(conf_matrix, annot=True, fmt='d', ax=ax, cmap='Blues', cbar=False)\n",
    "\n",
    "# Set labels, title, and ticks\n",
    "ax.set_xlabel('Predicted labels')\n",
    "ax.set_ylabel('True labels')\n",
    "ax.set_title('Confusion Matrix')\n",
    "ax.xaxis.set_ticklabels(class_names)\n",
    "ax.yaxis.set_ticklabels(class_names)\n",
    "\n",
    "plt.show()"
   ]
  },
  {
   "cell_type": "code",
   "execution_count": 152,
   "id": "4a40052b",
   "metadata": {
    "ExecuteTime": {
     "end_time": "2023-05-19T06:20:18.310898Z",
     "start_time": "2023-05-19T06:20:18.299869Z"
    }
   },
   "outputs": [
    {
     "name": "stdout",
     "output_type": "stream",
     "text": [
      "Specificity :  0.9870967741935484\n"
     ]
    }
   ],
   "source": [
    "# Calculating the specificity\n",
    "TN = conf_matrix[0,0]\n",
    "FP = conf_matrix[0,1]\n",
    "\n",
    "specificity = TN / (TN + FP)\n",
    "\n",
    "print('Specificity : ', specificity)"
   ]
  },
  {
   "cell_type": "markdown",
   "id": "7d037b17",
   "metadata": {},
   "source": [
    "# Resnet50"
   ]
  },
  {
   "cell_type": "code",
   "execution_count": 79,
   "id": "1c33e909",
   "metadata": {
    "ExecuteTime": {
     "end_time": "2023-05-18T17:02:19.287715Z",
     "start_time": "2023-05-18T17:02:18.337667Z"
    },
    "tags": []
   },
   "outputs": [
    {
     "name": "stdout",
     "output_type": "stream",
     "text": [
      "Found 28100 validated image filenames belonging to 2 classes.\n",
      "Found 3513 validated image filenames belonging to 2 classes.\n"
     ]
    }
   ],
   "source": [
    "from tensorflow.keras.applications.resnet50 import preprocess_input\n",
    "\n",
    "train_data_gen2 = ImageDataGenerator(\n",
    "      preprocessing_function=keras.applications.resnet50.preprocess_input\n",
    ")\n",
    "\n",
    "validation_data_gen2 = ImageDataGenerator(\n",
    "     preprocessing_function=keras.applications.resnet50.preprocess_input\n",
    ")\n",
    "\n",
    "# Create a generator for training data\n",
    "train_generator2 = train_data_gen2.flow_from_dataframe(\n",
    "    df_train,    # Provide DataFrame here\n",
    "    x_col='image_path',    # Column in df_train that contains the full path to each image\n",
    "    y_col='target',    # Column in df_train that contains the labels\n",
    "    target_size=(configs.img_size),\n",
    "    batch_size=configs.batch_size,\n",
    "    class_mode='binary',\n",
    "    shuffle=True\n",
    ")\n",
    "\n",
    "# Create a generator for validation data\n",
    "validation_generator2 = validation_data_gen2.flow_from_dataframe(\n",
    "    df_val,    # Provide DataFrame here\n",
    "    x_col='image_path',    # Column in df_val that contains the full path to each image\n",
    "    y_col='target',    # Column in df_val that contains the labels\n",
    "    target_size=(configs.img_size),\n",
    "    batch_size=configs.batch_size,\n",
    "    class_mode='binary',\n",
    "    shuffle=True\n",
    ")"
   ]
  },
  {
   "cell_type": "code",
   "execution_count": 80,
   "id": "0bffeeec-f108-40f7-94f1-79182e346a74",
   "metadata": {
    "ExecuteTime": {
     "end_time": "2023-05-18T17:02:19.303729Z",
     "start_time": "2023-05-18T17:02:19.288717Z"
    },
    "tags": []
   },
   "outputs": [],
   "source": [
    "steps_train2 = train_generator2.n // train_generator2.batch_size\n",
    "steps_val2 = validation_generator2.n // validation_generator2.batch_size"
   ]
  },
  {
   "cell_type": "code",
   "execution_count": 81,
   "id": "3ff337cb-fd6e-408d-a9d3-d651d3e6f6a1",
   "metadata": {
    "ExecuteTime": {
     "end_time": "2023-05-18T17:02:20.453958Z",
     "start_time": "2023-05-18T17:02:19.318182Z"
    },
    "tags": []
   },
   "outputs": [
    {
     "name": "stdout",
     "output_type": "stream",
     "text": [
      "Model: \"sequential_10\"\n",
      "_________________________________________________________________\n",
      " Layer (type)                Output Shape              Param #   \n",
      "=================================================================\n",
      " resnet50 (Functional)       (None, 7, 7, 2048)        23587712  \n",
      "                                                                 \n",
      " flatten_6 (Flatten)         (None, 100352)            0         \n",
      "                                                                 \n",
      " dense_29 (Dense)            (None, 1024)              102761472 \n",
      "                                                                 \n",
      " dropout_19 (Dropout)        (None, 1024)              0         \n",
      "                                                                 \n",
      " dense_30 (Dense)            (None, 512)               524800    \n",
      "                                                                 \n",
      " dropout_20 (Dropout)        (None, 512)               0         \n",
      "                                                                 \n",
      " dense_31 (Dense)            (None, 256)               131328    \n",
      "                                                                 \n",
      " dropout_21 (Dropout)        (None, 256)               0         \n",
      "                                                                 \n",
      " dense_32 (Dense)            (None, 64)                16448     \n",
      "                                                                 \n",
      " dropout_22 (Dropout)        (None, 64)                0         \n",
      "                                                                 \n",
      " dense_33 (Dense)            (None, 1)                 65        \n",
      "                                                                 \n",
      "=================================================================\n",
      "Total params: 127,021,825\n",
      "Trainable params: 103,434,113\n",
      "Non-trainable params: 23,587,712\n",
      "_________________________________________________________________\n"
     ]
    }
   ],
   "source": [
    "base_model_2 = tf.keras.applications.resnet.ResNet50(\n",
    "    include_top=False, weights='imagenet',input_shape=(224,224,3)\n",
    ")\n",
    "\n",
    "# freeze all layers in the base model\n",
    "base_model_2.trainable = False\n",
    "\n",
    "# un-freeze the BatchNorm layers\n",
    "for layer in base_model_2.layers:\n",
    "    if \"BatchNormalization\" in layer.__class__.__name__:\n",
    "        layer.trainable = True\n",
    "\n",
    "model_2=Sequential()\n",
    "model_2.add(base_model_2)\n",
    "\n",
    "model_2.add(Flatten())\n",
    "model_2.add(Dense(1024,activation='relu',kernel_regularizer='l2'))\n",
    "model_2.add(Dropout(0.3))\n",
    "model_2.add(Dense(512,activation='relu',kernel_regularizer='l2'))\n",
    "model_2.add(Dropout(0.3))\n",
    "model_2.add(Dense(256,activation='relu',kernel_regularizer='l2'))\n",
    "model_2.add(Dropout(0.3))\n",
    "model_2.add(Dense(64,activation='relu',kernel_regularizer='l2'))\n",
    "model_2.add(Dropout(0.3))\n",
    "model_2.add(Dense(1,activation='sigmoid'))\n",
    "            \n",
    "model_2.summary()"
   ]
  },
  {
   "cell_type": "code",
   "execution_count": 82,
   "id": "2377a054",
   "metadata": {
    "ExecuteTime": {
     "end_time": "2023-05-18T17:02:20.469972Z",
     "start_time": "2023-05-18T17:02:20.455960Z"
    },
    "tags": []
   },
   "outputs": [],
   "source": [
    "model_2.compile(optimizer=Adam(learning_rate=1e-4), loss='binary_crossentropy', metrics=METRICS)"
   ]
  },
  {
   "cell_type": "code",
   "execution_count": 83,
   "id": "87f618d4",
   "metadata": {
    "ExecuteTime": {
     "end_time": "2023-05-18T17:20:16.470612Z",
     "start_time": "2023-05-18T17:02:20.534394Z"
    },
    "scrolled": true,
    "tags": []
   },
   "outputs": [
    {
     "name": "stdout",
     "output_type": "stream",
     "text": [
      "Epoch 1/15\n",
      "439/439 [==============================] - 75s 164ms/step - loss: 16.0368 - accuracy: 0.8777 - precision: 0.2393 - recall: 0.3054 - auc: 0.7502 - val_loss: 8.2773 - val_accuracy: 0.9578 - val_precision: 0.8811 - val_recall: 0.4941 - val_auc: 0.9718\n",
      "Epoch 2/15\n",
      "439/439 [==============================] - 71s 163ms/step - loss: 5.7950 - accuracy: 0.9546 - precision: 0.7425 - recall: 0.5876 - auc: 0.9512 - val_loss: 4.0374 - val_accuracy: 0.9806 - val_precision: 0.9009 - val_recall: 0.8261 - val_auc: 0.9846\n",
      "Epoch 3/15\n",
      "439/439 [==============================] - 72s 163ms/step - loss: 3.1487 - accuracy: 0.9726 - precision: 0.8487 - recall: 0.7643 - auc: 0.9749 - val_loss: 2.3923 - val_accuracy: 0.9815 - val_precision: 0.8514 - val_recall: 0.9109 - val_auc: 0.9914\n",
      "Epoch 4/15\n",
      "439/439 [==============================] - 72s 164ms/step - loss: 1.9164 - accuracy: 0.9759 - precision: 0.8719 - recall: 0.7883 - auc: 0.9839 - val_loss: 1.4844 - val_accuracy: 0.9838 - val_precision: 0.8937 - val_recall: 0.8867 - val_auc: 0.9918\n",
      "Epoch 5/15\n",
      "439/439 [==============================] - 72s 165ms/step - loss: 1.2213 - accuracy: 0.9777 - precision: 0.8814 - recall: 0.8063 - auc: 0.9816 - val_loss: 0.9450 - val_accuracy: 0.9861 - val_precision: 0.9641 - val_recall: 0.8431 - val_auc: 0.9852\n",
      "Epoch 6/15\n",
      "439/439 [==============================] - 72s 163ms/step - loss: 0.7796 - accuracy: 0.9800 - precision: 0.8964 - recall: 0.8224 - auc: 0.9860 - val_loss: 0.6035 - val_accuracy: 0.9896 - val_precision: 0.9228 - val_recall: 0.9373 - val_auc: 0.9896\n",
      "Epoch 7/15\n",
      "439/439 [==============================] - 71s 163ms/step - loss: 0.5196 - accuracy: 0.9811 - precision: 0.8943 - recall: 0.8432 - auc: 0.9884 - val_loss: 0.4279 - val_accuracy: 0.9858 - val_precision: 0.9769 - val_recall: 0.8275 - val_auc: 0.9915\n",
      "Epoch 8/15\n",
      "439/439 [==============================] - 72s 164ms/step - loss: 0.3693 - accuracy: 0.9835 - precision: 0.9178 - recall: 0.8514 - auc: 0.9876 - val_loss: 0.2920 - val_accuracy: 0.9939 - val_precision: 0.9796 - val_recall: 0.9375 - val_auc: 0.9923\n",
      "Epoch 9/15\n",
      "439/439 [==============================] - 71s 161ms/step - loss: 0.2749 - accuracy: 0.9851 - precision: 0.9272 - recall: 0.8648 - auc: 0.9903 - val_loss: 0.2356 - val_accuracy: 0.9916 - val_precision: 0.9708 - val_recall: 0.9137 - val_auc: 0.9923\n",
      "Epoch 10/15\n",
      "439/439 [==============================] - 70s 160ms/step - loss: 0.2280 - accuracy: 0.9850 - precision: 0.9285 - recall: 0.8628 - auc: 0.9916 - val_loss: 0.2056 - val_accuracy: 0.9896 - val_precision: 0.9910 - val_recall: 0.8661 - val_auc: 0.9914\n",
      "Epoch 11/15\n",
      "439/439 [==============================] - 70s 160ms/step - loss: 0.1959 - accuracy: 0.9855 - precision: 0.9318 - recall: 0.8668 - auc: 0.9929 - val_loss: 0.1718 - val_accuracy: 0.9902 - val_precision: 0.9440 - val_recall: 0.9219 - val_auc: 0.9893\n",
      "Epoch 12/15\n",
      "439/439 [==============================] - 72s 164ms/step - loss: 0.1869 - accuracy: 0.9846 - precision: 0.9255 - recall: 0.8600 - auc: 0.9925 - val_loss: 0.1650 - val_accuracy: 0.9907 - val_precision: 0.9745 - val_recall: 0.8980 - val_auc: 0.9928\n",
      "Epoch 13/15\n",
      "439/439 [==============================] - 70s 159ms/step - loss: 0.1615 - accuracy: 0.9880 - precision: 0.9514 - recall: 0.8822 - auc: 0.9946 - val_loss: 0.1422 - val_accuracy: 0.9957 - val_precision: 0.9762 - val_recall: 0.9647 - val_auc: 0.9919\n",
      "Epoch 14/15\n",
      "439/439 [==============================] - 72s 165ms/step - loss: 0.1658 - accuracy: 0.9854 - precision: 0.9285 - recall: 0.8690 - auc: 0.9922 - val_loss: 0.1544 - val_accuracy: 0.9873 - val_precision: 0.8849 - val_recall: 0.9535 - val_auc: 0.9934\n",
      "Epoch 15/15\n",
      "439/439 [==============================] - 72s 165ms/step - loss: 0.1683 - accuracy: 0.9856 - precision: 0.9309 - recall: 0.8682 - auc: 0.9917 - val_loss: 0.1487 - val_accuracy: 0.9945 - val_precision: 0.9758 - val_recall: 0.9490 - val_auc: 0.9925\n",
      "CPU times: total: 12min 21s\n",
      "Wall time: 17min 55s\n"
     ]
    }
   ],
   "source": [
    "%%time\n",
    "history_2 = model_2.fit(\n",
    "          train_generator2,\n",
    "          steps_per_epoch = train_generator2.samples // configs.batch_size,\n",
    "          validation_data = validation_generator2, \n",
    "          validation_steps = validation_generator2.samples // configs.batch_size,\n",
    "          epochs = configs.epochs,\n",
    "          callbacks=callbacks\n",
    ")"
   ]
  },
  {
   "cell_type": "code",
   "execution_count": 84,
   "id": "d8cd0a11-626e-4531-898e-759c243f27e8",
   "metadata": {
    "ExecuteTime": {
     "end_time": "2023-05-18T17:20:21.853397Z",
     "start_time": "2023-05-18T17:20:20.290045Z"
    },
    "tags": []
   },
   "outputs": [],
   "source": [
    "model_2.save('C:/Users/MartinDesktop/Documents/Oslomet Master 1.2/ACIT4630/JupyterNotebook/all_models/model2.h5')"
   ]
  },
  {
   "cell_type": "code",
   "execution_count": 85,
   "id": "62a544fe",
   "metadata": {
    "ExecuteTime": {
     "end_time": "2023-05-18T17:20:22.023682Z",
     "start_time": "2023-05-18T17:20:21.854397Z"
    }
   },
   "outputs": [
    {
     "name": "stdout",
     "output_type": "stream",
     "text": [
      "Found 3513 validated image filenames belonging to 2 classes.\n"
     ]
    }
   ],
   "source": [
    "# Creating a test generator for test data\n",
    "test_datagen2 = ImageDataGenerator(\n",
    "    preprocessing_function=preprocess_input,\n",
    ")\n",
    "\n",
    "test_generator2 = test_datagen2.flow_from_dataframe(\n",
    "    df_test,    # Provide DataFrame here\n",
    "    x_col='image_path',    # Column in df_val that contains the full path to each image\n",
    "    y_col='target',    # Column in df_val that contains the labels\n",
    "    target_size=(configs.img_size),\n",
    "    batch_size=configs.batch_size,\n",
    "    class_mode='binary',\n",
    "    shuffle=True\n",
    ")"
   ]
  },
  {
   "cell_type": "code",
   "execution_count": 86,
   "id": "cd215571-010d-4ca9-afa4-813fce5b2a0b",
   "metadata": {
    "ExecuteTime": {
     "end_time": "2023-05-18T17:20:28.934043Z",
     "start_time": "2023-05-18T17:20:22.440367Z"
    },
    "tags": []
   },
   "outputs": [
    {
     "name": "stdout",
     "output_type": "stream",
     "text": [
      "54/54 [==============================] - 6s 116ms/step - loss: 0.1492 - accuracy: 0.9942 - precision: 0.9722 - recall: 0.9496 - auc: 0.9925\n"
     ]
    },
    {
     "data": {
      "text/plain": [
       "[0.1492462307214737,\n",
       " 0.9942129850387573,\n",
       " 0.9722222089767456,\n",
       " 0.9496123790740967,\n",
       " 0.9925370812416077]"
      ]
     },
     "execution_count": 86,
     "metadata": {},
     "output_type": "execute_result"
    }
   ],
   "source": [
    "# Taking the validation set and evaluating the model\n",
    "model_2.evaluate(validation_generator2, steps=steps_val2)"
   ]
  },
  {
   "cell_type": "code",
   "execution_count": 87,
   "id": "b8ac6f5b-7d5c-4b9f-955f-fae039bbcb3d",
   "metadata": {
    "ExecuteTime": {
     "end_time": "2023-05-18T17:20:28.950067Z",
     "start_time": "2023-05-18T17:20:28.935044Z"
    },
    "tags": []
   },
   "outputs": [],
   "source": [
    "steps_test2 = test_generator2.n // test_generator2.batch_size"
   ]
  },
  {
   "cell_type": "code",
   "execution_count": 88,
   "id": "3b202641",
   "metadata": {
    "ExecuteTime": {
     "end_time": "2023-05-18T17:20:28.965869Z",
     "start_time": "2023-05-18T17:20:28.952067Z"
    }
   },
   "outputs": [],
   "source": [
    "test_examples2 = test_generator2.n"
   ]
  },
  {
   "cell_type": "code",
   "execution_count": 89,
   "id": "07279539-2f57-4f29-874e-9909f8504e53",
   "metadata": {
    "ExecuteTime": {
     "end_time": "2023-05-18T17:20:32.225870Z",
     "start_time": "2023-05-18T17:20:28.967872Z"
    },
    "tags": []
   },
   "outputs": [
    {
     "data": {
      "text/plain": [
       "array([0., 0., 0., ..., 0., 0., 0.])"
      ]
     },
     "execution_count": 89,
     "metadata": {},
     "output_type": "execute_result"
    }
   ],
   "source": [
    "# Getting the classes of the test dataset\n",
    "y_test2 = np.array([])\n",
    "num_batches = 0\n",
    "for _, y in test_generator2:\n",
    "    y_test2 = np.append(y_test2, y)\n",
    "    num_batches += 1\n",
    "    if num_batches == math.ceil(test_examples2 / configs.batch_size):\n",
    "        break\n",
    "y_test2"
   ]
  },
  {
   "cell_type": "code",
   "execution_count": 90,
   "id": "20cdeeee-9c87-43b5-a054-8a08a07d5dc6",
   "metadata": {
    "ExecuteTime": {
     "end_time": "2023-05-18T17:20:39.104059Z",
     "start_time": "2023-05-18T17:20:32.227874Z"
    },
    "tags": []
   },
   "outputs": [
    {
     "name": "stdout",
     "output_type": "stream",
     "text": [
      "55/55 [==============================] - 7s 112ms/step\n"
     ]
    },
    {
     "data": {
      "text/plain": [
       "array([[0.],\n",
       "       [0.],\n",
       "       [0.],\n",
       "       ...,\n",
       "       [0.],\n",
       "       [0.],\n",
       "       [0.]], dtype=float32)"
      ]
     },
     "execution_count": 90,
     "metadata": {},
     "output_type": "execute_result"
    }
   ],
   "source": [
    "# Predicting output on the test set\n",
    "y_pred2 = model_2.predict(test_generator2).round()\n",
    "y_pred2"
   ]
  },
  {
   "cell_type": "code",
   "execution_count": 91,
   "id": "15880973-a9cc-4383-8591-6a4b13f49068",
   "metadata": {
    "ExecuteTime": {
     "end_time": "2023-05-18T17:20:39.119148Z",
     "start_time": "2023-05-18T17:20:39.106060Z"
    },
    "tags": []
   },
   "outputs": [],
   "source": [
    "# Computing the TPR and FPR values from the roc curve\n",
    "fpr, tpr, thresholds = roc_curve(y_test2, y_pred2)"
   ]
  },
  {
   "cell_type": "code",
   "execution_count": 92,
   "id": "dfff9e7d-d1aa-4752-9724-888ce572bf1c",
   "metadata": {
    "ExecuteTime": {
     "end_time": "2023-05-18T17:20:39.211411Z",
     "start_time": "2023-05-18T17:20:39.120149Z"
    },
    "tags": []
   },
   "outputs": [
    {
     "data": {
      "image/png": "[encoded data removed]",
      "text/plain": [
       "<Figure size 640x480 with 1 Axes>"
      ]
     },
     "metadata": {},
     "output_type": "display_data"
    }
   ],
   "source": [
    "# Plotting the ROC curve\n",
    "def plot_roc_curve (fpr, tpr, label = None):\n",
    "    plt.plot(fpr, tpr, linewidth = 2, label = label)\n",
    "    plt.plot([0,1], [0,1], 'k--') # Dashed diagonal\n",
    "    plt.xlabel(\"False Positive Rate\")\n",
    "    plt.ylabel(\"True Positive Rate (Recall)\")\n",
    "    plt.grid()\n",
    "    \n",
    "plot_roc_curve(fpr, tpr)\n",
    "plt.show()"
   ]
  },
  {
   "cell_type": "code",
   "execution_count": 93,
   "id": "6c520358-9c0c-409e-9336-3047309123b3",
   "metadata": {
    "ExecuteTime": {
     "end_time": "2023-05-18T17:20:45.622866Z",
     "start_time": "2023-05-18T17:20:39.212412Z"
    },
    "tags": []
   },
   "outputs": [
    {
     "name": "stdout",
     "output_type": "stream",
     "text": [
      "54/54 [==============================] - 6s 116ms/step - loss: 0.1479 - accuracy: 0.9957 - precision: 0.9763 - recall: 0.9648 - auc: 0.9907\n"
     ]
    },
    {
     "data": {
      "text/plain": [
       "[0.14786332845687866,\n",
       " 0.9956597089767456,\n",
       " 0.9762845635414124,\n",
       " 0.96484375,\n",
       " 0.990663468837738]"
      ]
     },
     "execution_count": 93,
     "metadata": {},
     "output_type": "execute_result"
    }
   ],
   "source": [
    "# Taking the test set and evaluating the model\n",
    "model_2.evaluate(test_generator2, steps=steps_test2)"
   ]
  },
  {
   "cell_type": "code",
   "execution_count": 94,
   "id": "dd9c19fd",
   "metadata": {
    "ExecuteTime": {
     "end_time": "2023-05-18T17:20:46.817900Z",
     "start_time": "2023-05-18T17:20:46.488602Z"
    },
    "tags": []
   },
   "outputs": [
    {
     "data": {
      "image/png": "[encoded data removed]",
      "text/plain": [
       "<Figure size 640x480 with 1 Axes>"
      ]
     },
     "metadata": {},
     "output_type": "display_data"
    },
    {
     "data": {
      "image/png": "[encoded data removed]",
      "text/plain": [
       "<Figure size 640x480 with 1 Axes>"
      ]
     },
     "metadata": {},
     "output_type": "display_data"
    },
    {
     "data": {
      "image/png": "[encoded data removed]",
      "text/plain": [
       "<Figure size 640x480 with 1 Axes>"
      ]
     },
     "metadata": {},
     "output_type": "display_data"
    }
   ],
   "source": [
    "import matplotlib.pyplot as plt\n",
    "# Summarize history for accuracy\n",
    "plt.plot(history_2.history['accuracy'])\n",
    "plt.plot(history_2.history['val_accuracy'])\n",
    "plt.title('ResNet50 Accuracy')\n",
    "plt.ylabel('Accuracy')\n",
    "plt.xlabel('epoch')\n",
    "plt.legend(['train', 'validation'], loc='upper left')\n",
    "plt.show()\n",
    "# Summarize history for AUC\n",
    "plt.plot(history_2.history['auc'])\n",
    "plt.plot(history_2.history['val_auc'])\n",
    "plt.title('ResNet50 model AUC')\n",
    "plt.ylabel('AUC')\n",
    "plt.xlabel('epoch')\n",
    "plt.legend(['train', 'validation'], loc='upper left')\n",
    "plt.show()\n",
    "# summarize history for loss\n",
    "plt.plot(history_2.history['loss'])\n",
    "plt.plot(history_2.history['val_loss'])\n",
    "plt.title('ResNet50 model loss')\n",
    "plt.ylabel('loss')\n",
    "plt.xlabel('epoch')\n",
    "plt.legend(['train', 'validation'], loc='upper left')\n",
    "plt.show()"
   ]
  },
  {
   "cell_type": "code",
   "execution_count": 154,
   "id": "c2ca308a-dbef-435b-81d6-46b15643014b",
   "metadata": {
    "ExecuteTime": {
     "end_time": "2023-05-19T06:22:56.161908Z",
     "start_time": "2023-05-19T06:22:56.149834Z"
    }
   },
   "outputs": [
    {
     "name": "stdout",
     "output_type": "stream",
     "text": [
      "Confusion matrix:  [[3249    6]\n",
      " [   9  249]]\n",
      "Accuracy:  0.9957301451750641\n",
      "ROC-AUC:  0.9816364805487084\n",
      "Precision:  0.9764705882352941\n",
      "Recall:  0.9651162790697675\n",
      "F1-Score:  0.9707602339181286\n"
     ]
    }
   ],
   "source": [
    "from sklearn.metrics import (\n",
    "    confusion_matrix,\n",
    "    accuracy_score,\n",
    "    precision_score,\n",
    "    recall_score,\n",
    "    f1_score\n",
    ")\n",
    "\n",
    "# y_pred is the array of predicted probabilities\n",
    "y_pred_binary2 = (y_pred2 > 0.5).astype(int)\n",
    "\n",
    "# Generate confusion matrix for the predictions\n",
    "conf_matrix2 = confusion_matrix(y_test2, y_pred_binary2)\n",
    "accuracy2 = accuracy_score(y_test2, y_pred_binary2)\n",
    "roc_auc2 = roc_auc_score(y_test2, y_pred_binary2)\n",
    "precision2 = precision_score(y_test2, y_pred_binary2)\n",
    "recall2 = recall_score(y_test2, y_pred_binary2)\n",
    "f12 = f1_score(y_test2, y_pred_binary2)\n",
    "\n",
    "print(\"Confusion matrix: \", conf_matrix2)\n",
    "print(\"Accuracy: \", accuracy2)\n",
    "print(\"ROC-AUC: \", roc_auc2)\n",
    "print(\"Precision: \", precision2)\n",
    "print(\"Recall: \", recall2)\n",
    "print(\"F1-Score: \", f12)"
   ]
  },
  {
   "cell_type": "code",
   "execution_count": 104,
   "id": "17a7becb",
   "metadata": {
    "ExecuteTime": {
     "end_time": "2023-05-18T17:43:11.708494Z",
     "start_time": "2023-05-18T17:43:11.643272Z"
    }
   },
   "outputs": [
    {
     "data": {
      "image/png": "[encoded data removed]",
      "text/plain": [
       "<Figure size 640x480 with 1 Axes>"
      ]
     },
     "metadata": {},
     "output_type": "display_data"
    }
   ],
   "source": [
    "fig, ax = plt.subplots()\n",
    "\n",
    "# Create a heatmap\n",
    "sns.heatmap(conf_matrix2, annot=True, fmt='d', ax=ax, cmap='Blues', cbar=False)\n",
    "\n",
    "# Set labels, title, and ticks\n",
    "ax.set_xlabel('Predicted labels')\n",
    "ax.set_ylabel('True labels')\n",
    "ax.set_title('Confusion Matrix')\n",
    "ax.xaxis.set_ticklabels(class_names)\n",
    "ax.yaxis.set_ticklabels(class_names)\n",
    "\n",
    "plt.show()"
   ]
  },
  {
   "cell_type": "code",
   "execution_count": 96,
   "id": "dab9375e",
   "metadata": {
    "ExecuteTime": {
     "end_time": "2023-05-18T17:20:51.062727Z",
     "start_time": "2023-05-18T17:20:51.046341Z"
    }
   },
   "outputs": [
    {
     "name": "stdout",
     "output_type": "stream",
     "text": [
      "Specificity :  0.9981566820276497\n"
     ]
    }
   ],
   "source": [
    "# Calculating the specificity\n",
    "TN = conf_matrix2[0,0]\n",
    "FP = conf_matrix2[0,1]\n",
    "\n",
    "specificity2 = TN / (TN + FP)\n",
    "\n",
    "print('Specificity : ', specificity2)"
   ]
  },
  {
   "cell_type": "markdown",
   "id": "356df8b0-e2eb-4d9e-8d87-9b1d7bb4d2ad",
   "metadata": {
    "tags": []
   },
   "source": [
    "# MobileNetV2"
   ]
  },
  {
   "cell_type": "code",
   "execution_count": 13,
   "id": "38035346-12d9-440a-b697-7935d972770b",
   "metadata": {
    "ExecuteTime": {
     "end_time": "2023-05-18T15:51:00.402552Z",
     "start_time": "2023-05-18T15:50:57.630750Z"
    },
    "tags": []
   },
   "outputs": [
    {
     "name": "stdout",
     "output_type": "stream",
     "text": [
      "Found 28100 validated image filenames belonging to 2 classes.\n",
      "Found 3513 validated image filenames belonging to 2 classes.\n"
     ]
    }
   ],
   "source": [
    "from tensorflow.keras.applications.mobilenet_v2 import *\n",
    "\n",
    "train_data_gen3 = ImageDataGenerator(\n",
    "      preprocessing_function=preprocess_input\n",
    ")\n",
    "\n",
    "validation_data_gen3 = ImageDataGenerator(\n",
    "      preprocessing_function=keras.applications.mobilenet_v2.preprocess_input\n",
    ")\n",
    "\n",
    "# Create a generator for training data\n",
    "train_generator3 = train_data_gen3.flow_from_dataframe(\n",
    "    df_train,    # Provide DataFrame here\n",
    "    x_col='image_path',    # Column in df_train that contains the full path to each image\n",
    "    y_col='target',    # Column in df_train that contains the labels\n",
    "    target_size=(configs.img_size),\n",
    "    batch_size=configs.batch_size,\n",
    "    class_mode='binary',\n",
    "    shuffle=True\n",
    ")\n",
    "\n",
    "# Create a generator for validation data\n",
    "validation_generator3 = validation_data_gen3.flow_from_dataframe(\n",
    "    df_val,    # Provide DataFrame here\n",
    "    x_col='image_path',    # Column in df_val that contains the full path to each image\n",
    "    y_col='target',    # Column in df_val that contains the labels\n",
    "    target_size=(configs.img_size),\n",
    "    batch_size=configs.batch_size,\n",
    "    class_mode='binary',\n",
    "    shuffle=True\n",
    ")\n"
   ]
  },
  {
   "cell_type": "code",
   "execution_count": 14,
   "id": "c943a8fd-3b91-4cb2-9b4d-92b21a75a280",
   "metadata": {
    "ExecuteTime": {
     "end_time": "2023-05-18T15:51:00.418566Z",
     "start_time": "2023-05-18T15:51:00.404554Z"
    },
    "tags": []
   },
   "outputs": [],
   "source": [
    "steps_train3 = train_generator3.n // train_generator3.batch_size\n",
    "steps_val3 = validation_generator3.n // validation_generator3.batch_size"
   ]
  },
  {
   "cell_type": "code",
   "execution_count": 24,
   "id": "44dff49a-9244-41df-b0b8-90bf04575b02",
   "metadata": {
    "ExecuteTime": {
     "end_time": "2023-05-18T15:57:58.325282Z",
     "start_time": "2023-05-18T15:57:57.438553Z"
    },
    "tags": []
   },
   "outputs": [
    {
     "name": "stdout",
     "output_type": "stream",
     "text": [
      "Model: \"sequential_3\"\n",
      "_________________________________________________________________\n",
      " Layer (type)                Output Shape              Param #   \n",
      "=================================================================\n",
      " mobilenetv2_1.00_224 (Funct  (None, 7, 7, 1280)       2257984   \n",
      " ional)                                                          \n",
      "                                                                 \n",
      " flatten_3 (Flatten)         (None, 62720)             0         \n",
      "                                                                 \n",
      " dense_10 (Dense)            (None, 256)               16056576  \n",
      "                                                                 \n",
      " dropout_7 (Dropout)         (None, 256)               0         \n",
      "                                                                 \n",
      " dense_11 (Dense)            (None, 128)               32896     \n",
      "                                                                 \n",
      " dropout_8 (Dropout)         (None, 128)               0         \n",
      "                                                                 \n",
      " dense_12 (Dense)            (None, 1)                 129       \n",
      "                                                                 \n",
      "=================================================================\n",
      "Total params: 18,347,585\n",
      "Trainable params: 16,089,601\n",
      "Non-trainable params: 2,257,984\n",
      "_________________________________________________________________\n"
     ]
    }
   ],
   "source": [
    "base_model_3= MobileNetV2(include_top=False, weights='imagenet',\n",
    "                                        input_tensor=None, input_shape=(224,224,3))\n",
    "for each_layer in base_model_3.layers:\n",
    "        each_layer.trainable=False\n",
    "\n",
    "model_3=Sequential()\n",
    "model_3.add(base_model_3)\n",
    "\n",
    "model_3.add(Flatten())\n",
    "model_3.add(Dense(256,activation='relu',kernel_regularizer='l2'))\n",
    "model_3.add(Dropout(0.4))\n",
    "model_3.add(Dense(128,activation='relu',kernel_regularizer='l2'))\n",
    "model_3.add(Dropout(0.3))\n",
    "model_3.add(Dense(1,activation='sigmoid'))\n",
    "            \n",
    "model_3.summary()"
   ]
  },
  {
   "cell_type": "code",
   "execution_count": 25,
   "id": "ad5a0b1f-01d5-4ecd-b322-ec0dd81d6a01",
   "metadata": {
    "ExecuteTime": {
     "end_time": "2023-05-18T15:57:59.164572Z",
     "start_time": "2023-05-18T15:57:59.157551Z"
    },
    "tags": []
   },
   "outputs": [],
   "source": [
    "model_3.compile(optimizer=Adam(learning_rate=1e-4), loss='binary_crossentropy', metrics=METRICS)"
   ]
  },
  {
   "cell_type": "code",
   "execution_count": 26,
   "id": "8fe9aae4-ead2-4d1f-a432-ecce6f5088dd",
   "metadata": {
    "ExecuteTime": {
     "end_time": "2023-05-18T16:09:07.242454Z",
     "start_time": "2023-05-18T15:58:00.883403Z"
    },
    "scrolled": false,
    "tags": []
   },
   "outputs": [
    {
     "name": "stdout",
     "output_type": "stream",
     "text": [
      "Epoch 1/15\n",
      "439/439 [==============================] - 34s 73ms/step - loss: 2.5111 - accuracy: 0.7496 - precision: 0.1939 - recall: 0.7626 - auc: 0.8338 - val_loss: 1.4064 - val_accuracy: 0.8947 - val_precision: 0.3913 - val_recall: 0.7795 - val_auc: 0.9376\n",
      "Epoch 2/15\n",
      "439/439 [==============================] - 41s 93ms/step - loss: 0.7974 - accuracy: 0.8038 - precision: 0.2516 - recall: 0.8461 - auc: 0.9040 - val_loss: 0.7557 - val_accuracy: 0.8686 - val_precision: 0.3478 - val_recall: 0.9243 - val_auc: 0.9648\n",
      "Epoch 3/15\n",
      "439/439 [==============================] - 219s 500ms/step - loss: 0.3717 - accuracy: 0.8389 - precision: 0.2973 - recall: 0.8720 - auc: 0.9325 - val_loss: 0.4944 - val_accuracy: 0.8999 - val_precision: 0.4214 - val_recall: 0.9147 - val_auc: 0.9689\n",
      "Epoch 4/15\n",
      "439/439 [==============================] - 33s 75ms/step - loss: 0.2067 - accuracy: 0.8562 - precision: 0.3250 - recall: 0.8866 - auc: 0.9454 - val_loss: 0.3877 - val_accuracy: 0.8802 - val_precision: 0.3744 - val_recall: 0.9486 - val_auc: 0.9751\n",
      "Epoch 5/15\n",
      "439/439 [==============================] - 34s 76ms/step - loss: 0.1358 - accuracy: 0.8590 - precision: 0.3302 - recall: 0.8909 - auc: 0.9483 - val_loss: 0.3998 - val_accuracy: 0.8429 - val_precision: 0.3129 - val_recall: 0.9800 - val_auc: 0.9780\n",
      "Epoch 6/15\n",
      "439/439 [==============================] - 34s 76ms/step - loss: 0.1001 - accuracy: 0.8672 - precision: 0.3447 - recall: 0.8929 - auc: 0.9545 - val_loss: 0.1822 - val_accuracy: 0.9482 - val_precision: 0.6059 - val_recall: 0.8760 - val_auc: 0.9821\n",
      "Epoch 7/15\n",
      "439/439 [==============================] - 34s 77ms/step - loss: 0.0807 - accuracy: 0.8784 - precision: 0.3679 - recall: 0.9070 - auc: 0.9603 - val_loss: 0.2775 - val_accuracy: 0.8987 - val_precision: 0.4190 - val_recall: 0.9492 - val_auc: 0.9787\n",
      "Epoch 8/15\n",
      "439/439 [==============================] - 32s 73ms/step - loss: 0.0729 - accuracy: 0.8773 - precision: 0.3643 - recall: 0.8981 - auc: 0.9576 - val_loss: 0.2385 - val_accuracy: 0.9242 - val_precision: 0.4929 - val_recall: 0.9569 - val_auc: 0.9808\n",
      "Epoch 9/15\n",
      "439/439 [==============================] - 30s 68ms/step - loss: 0.0696 - accuracy: 0.8728 - precision: 0.3554 - recall: 0.8957 - auc: 0.9558 - val_loss: 0.2014 - val_accuracy: 0.9369 - val_precision: 0.5376 - val_recall: 0.9160 - val_auc: 0.9817\n",
      "Epoch 10/15\n",
      "439/439 [==============================] - 30s 67ms/step - loss: 0.0674 - accuracy: 0.8726 - precision: 0.3542 - recall: 0.8906 - auc: 0.9543 - val_loss: 0.1722 - val_accuracy: 0.9497 - val_precision: 0.5985 - val_recall: 0.9405 - val_auc: 0.9846\n",
      "Epoch 11/15\n",
      "439/439 [==============================] - 30s 67ms/step - loss: 0.0624 - accuracy: 0.8858 - precision: 0.3823 - recall: 0.8944 - auc: 0.9609 - val_loss: 0.2335 - val_accuracy: 0.9170 - val_precision: 0.4679 - val_recall: 0.9802 - val_auc: 0.9891\n",
      "Epoch 12/15\n",
      "439/439 [==============================] - 29s 66ms/step - loss: 0.0623 - accuracy: 0.8843 - precision: 0.3793 - recall: 0.9006 - auc: 0.9614 - val_loss: 0.2153 - val_accuracy: 0.9317 - val_precision: 0.5191 - val_recall: 0.9646 - val_auc: 0.9838\n",
      "Epoch 13/15\n",
      "439/439 [==============================] - 29s 66ms/step - loss: 0.0608 - accuracy: 0.8928 - precision: 0.3985 - recall: 0.8963 - auc: 0.9628 - val_loss: 0.2695 - val_accuracy: 0.9057 - val_precision: 0.4351 - val_recall: 0.9841 - val_auc: 0.9878\n",
      "Epoch 14/15\n",
      "439/439 [==============================] - 28s 65ms/step - loss: 0.0596 - accuracy: 0.8934 - precision: 0.3990 - recall: 0.8907 - auc: 0.9646 - val_loss: 0.3177 - val_accuracy: 0.8686 - val_precision: 0.3544 - val_recall: 0.9841 - val_auc: 0.9851\n",
      "Epoch 15/15\n",
      "439/439 [==============================] - 30s 68ms/step - loss: 0.0603 - accuracy: 0.8910 - precision: 0.3930 - recall: 0.8865 - auc: 0.9621 - val_loss: 0.1950 - val_accuracy: 0.9288 - val_precision: 0.5063 - val_recall: 0.9524 - val_auc: 0.9877\n",
      "CPU times: total: 5min 47s\n",
      "Wall time: 11min 6s\n"
     ]
    }
   ],
   "source": [
    "%%time\n",
    "history_3 = model_3.fit(\n",
    "          train_generator3,\n",
    "          steps_per_epoch = train_generator3.samples // configs.batch_size,\n",
    "          validation_data = validation_generator3, \n",
    "          validation_steps = validation_generator3.samples // configs.batch_size,\n",
    "          epochs = configs.epochs,\n",
    "          class_weight=class_weights,\n",
    "          callbacks=callbacks\n",
    ")"
   ]
  },
  {
   "cell_type": "code",
   "execution_count": 27,
   "id": "09ad836f-0a3b-438d-8210-b46cbe98a8e6",
   "metadata": {
    "ExecuteTime": {
     "end_time": "2023-05-18T16:09:23.060135Z",
     "start_time": "2023-05-18T16:09:22.692319Z"
    }
   },
   "outputs": [],
   "source": [
    "model_3.save('C:/Users/MartinDesktop/Documents/Oslomet Master 1.2/ACIT4630/JupyterNotebook/all_models/model3.h5')"
   ]
  },
  {
   "cell_type": "code",
   "execution_count": 28,
   "id": "1ac3042b-cbf5-4158-a217-299e2e5736ee",
   "metadata": {
    "ExecuteTime": {
     "end_time": "2023-05-18T16:09:27.245712Z",
     "start_time": "2023-05-18T16:09:23.930462Z"
    },
    "tags": []
   },
   "outputs": [
    {
     "name": "stdout",
     "output_type": "stream",
     "text": [
      "54/54 [==============================] - 3s 58ms/step - loss: 0.1951 - accuracy: 0.9285 - precision: 0.5053 - recall: 0.9524 - auc: 0.9879\n"
     ]
    },
    {
     "data": {
      "text/plain": [
       "[0.19512251019477844,\n",
       " 0.9285300970077515,\n",
       " 0.5052631497383118,\n",
       " 0.9523809552192688,\n",
       " 0.987916886806488]"
      ]
     },
     "execution_count": 28,
     "metadata": {},
     "output_type": "execute_result"
    }
   ],
   "source": [
    "# Taking the validation set and evaluating the model\n",
    "model_3.evaluate(validation_generator3, steps=steps_val3)"
   ]
  },
  {
   "cell_type": "code",
   "execution_count": 29,
   "id": "7cc480f3-dd9c-45d6-84ee-da34c62201b4",
   "metadata": {
    "ExecuteTime": {
     "end_time": "2023-05-18T16:09:27.467914Z",
     "start_time": "2023-05-18T16:09:27.246713Z"
    }
   },
   "outputs": [
    {
     "name": "stdout",
     "output_type": "stream",
     "text": [
      "Found 3513 validated image filenames belonging to 2 classes.\n"
     ]
    }
   ],
   "source": [
    "# Creating a test generator for test data\n",
    "test_datagen3 = ImageDataGenerator(\n",
    "    preprocessing_function=preprocess_input,\n",
    ")\n",
    "\n",
    "test_generator3 = test_datagen3.flow_from_dataframe(\n",
    "    df_test,    # Provide DataFrame here\n",
    "    x_col='image_path',    # Column in df_val that contains the full path to each image\n",
    "    y_col='target',    # Column in df_val that contains the labels\n",
    "    target_size=(configs.img_size),\n",
    "    batch_size=configs.batch_size,\n",
    "    class_mode='binary',\n",
    "    shuffle=True\n",
    ")"
   ]
  },
  {
   "cell_type": "code",
   "execution_count": 30,
   "id": "61e92a5d-1c68-46d7-8168-8fd88a35434a",
   "metadata": {
    "ExecuteTime": {
     "end_time": "2023-05-18T16:09:29.301248Z",
     "start_time": "2023-05-18T16:09:29.295243Z"
    },
    "tags": []
   },
   "outputs": [],
   "source": [
    "steps_test3 = test_generator3.n // test_generator3.batch_size"
   ]
  },
  {
   "cell_type": "code",
   "execution_count": 31,
   "id": "913a5b12",
   "metadata": {
    "ExecuteTime": {
     "end_time": "2023-05-18T16:09:29.742648Z",
     "start_time": "2023-05-18T16:09:29.727591Z"
    }
   },
   "outputs": [],
   "source": [
    "test_examples3 = test_generator3.n"
   ]
  },
  {
   "cell_type": "code",
   "execution_count": 33,
   "id": "758def29-5d0f-4446-a011-c5081767c53c",
   "metadata": {
    "ExecuteTime": {
     "end_time": "2023-05-18T16:09:58.619424Z",
     "start_time": "2023-05-18T16:09:36.633386Z"
    },
    "tags": []
   },
   "outputs": [
    {
     "data": {
      "text/plain": [
       "array([0., 0., 0., ..., 1., 0., 0.])"
      ]
     },
     "execution_count": 33,
     "metadata": {},
     "output_type": "execute_result"
    }
   ],
   "source": [
    "# Getting the classes of the test dataset\n",
    "y_test3 = np.array([])\n",
    "num_batches = 0\n",
    "for _, y in test_generator3:\n",
    "    y_test3 = np.append(y_test3, y)\n",
    "    num_batches += 1\n",
    "    if num_batches == math.ceil(test_examples3 / configs.batch_size):\n",
    "        break\n",
    "y_test3"
   ]
  },
  {
   "cell_type": "code",
   "execution_count": 34,
   "id": "8fd7932b-3d9f-499a-a09a-8fd4f0c03eb5",
   "metadata": {
    "ExecuteTime": {
     "end_time": "2023-05-18T16:10:02.796141Z",
     "start_time": "2023-05-18T16:09:58.621426Z"
    },
    "scrolled": true,
    "tags": []
   },
   "outputs": [
    {
     "name": "stdout",
     "output_type": "stream",
     "text": [
      "55/55 [==============================] - 4s 65ms/step\n"
     ]
    },
    {
     "data": {
      "text/plain": [
       "array([[5.3751748e-02],\n",
       "       [3.7624285e-02],\n",
       "       [7.6096901e-04],\n",
       "       ...,\n",
       "       [9.7711277e-01],\n",
       "       [5.4726493e-01],\n",
       "       [5.0742100e-03]], dtype=float32)"
      ]
     },
     "execution_count": 34,
     "metadata": {},
     "output_type": "execute_result"
    }
   ],
   "source": [
    "# Predicting output on the test set\n",
    "y_pred3 = model_3.predict(test_generator3)\n",
    "y_pred3"
   ]
  },
  {
   "cell_type": "code",
   "execution_count": 35,
   "id": "227c93dd-998d-4ba8-840e-512a08a19a12",
   "metadata": {
    "ExecuteTime": {
     "end_time": "2023-05-18T16:10:02.812156Z",
     "start_time": "2023-05-18T16:10:02.798144Z"
    },
    "tags": []
   },
   "outputs": [],
   "source": [
    "# Computing the TPR and FPR values from the roc curve\n",
    "from sklearn.metrics import roc_curve\n",
    "fpr, tpr, thresholds = roc_curve(y_test3, y_pred3)"
   ]
  },
  {
   "cell_type": "code",
   "execution_count": 36,
   "id": "6398ce91-b28a-42f1-97a3-9b5904ebe088",
   "metadata": {
    "ExecuteTime": {
     "end_time": "2023-05-18T16:10:03.208511Z",
     "start_time": "2023-05-18T16:10:02.814157Z"
    },
    "tags": []
   },
   "outputs": [
    {
     "data": {
      "image/png": "[encoded data removed]",
      "text/plain": [
       "<Figure size 640x480 with 1 Axes>"
      ]
     },
     "metadata": {},
     "output_type": "display_data"
    }
   ],
   "source": [
    "import matplotlib.pyplot as plt\n",
    "# Plotting the ROC curve\n",
    "def plot_roc_curve (fpr, tpr, label = None):\n",
    "    plt.plot(fpr, tpr, linewidth = 2, label = label)\n",
    "    plt.plot([0,1], [0,1], 'k--') # Dashed diagonal\n",
    "    plt.xlabel(\"False Positive Rate\")\n",
    "    plt.ylabel(\"True Positive Rate (Recall)\")\n",
    "    plt.grid()\n",
    "    \n",
    "plot_roc_curve(fpr, tpr)\n",
    "plt.show()"
   ]
  },
  {
   "cell_type": "code",
   "execution_count": 37,
   "id": "97fbd17e-121d-4ebd-a7e2-51791355ca38",
   "metadata": {
    "ExecuteTime": {
     "end_time": "2023-05-18T16:10:06.490710Z",
     "start_time": "2023-05-18T16:10:03.209511Z"
    },
    "tags": []
   },
   "outputs": [
    {
     "name": "stdout",
     "output_type": "stream",
     "text": [
      "54/54 [==============================] - 3s 58ms/step - loss: 0.2208 - accuracy: 0.9109 - precision: 0.4492 - recall: 0.9409 - auc: 0.9820\n"
     ]
    },
    {
     "data": {
      "text/plain": [
       "[0.22079041600227356,\n",
       " 0.9108796119689941,\n",
       " 0.44924813508987427,\n",
       " 0.9409449100494385,\n",
       " 0.9819538593292236]"
      ]
     },
     "execution_count": 37,
     "metadata": {},
     "output_type": "execute_result"
    }
   ],
   "source": [
    "# Taking the test set and evaluating the model\n",
    "model_3.evaluate(test_generator3, steps=steps_test3)"
   ]
  },
  {
   "cell_type": "code",
   "execution_count": 38,
   "id": "c4c4ad94-d775-4591-b90a-a0e32d332ed4",
   "metadata": {
    "ExecuteTime": {
     "end_time": "2023-05-18T16:10:06.859045Z",
     "start_time": "2023-05-18T16:10:06.492712Z"
    },
    "tags": []
   },
   "outputs": [
    {
     "data": {
      "image/png": "[encoded data removed]",
      "text/plain": [
       "<Figure size 640x480 with 1 Axes>"
      ]
     },
     "metadata": {},
     "output_type": "display_data"
    },
    {
     "data": {
      "image/png": "[encoded data removed]",
      "text/plain": [
       "<Figure size 640x480 with 1 Axes>"
      ]
     },
     "metadata": {},
     "output_type": "display_data"
    },
    {
     "data": {
      "image/png": "[encoded data removed]",
      "text/plain": [
       "<Figure size 640x480 with 1 Axes>"
      ]
     },
     "metadata": {},
     "output_type": "display_data"
    }
   ],
   "source": [
    "import matplotlib.pyplot as plt\n",
    "# Summarize history for accuracy\n",
    "plt.plot(history_3.history['accuracy'])\n",
    "plt.plot(history_3.history['val_accuracy'])\n",
    "plt.title('MobileNetV2 Accuracy')\n",
    "plt.ylabel('Accuracy')\n",
    "plt.xlabel('epoch')\n",
    "plt.legend(['train', 'test'], loc='upper left')\n",
    "plt.show()\n",
    "# Summarize history for AUC\n",
    "plt.plot(history_3.history['auc'])\n",
    "plt.plot(history_3.history['val_auc'])\n",
    "plt.title('MobileNetV2 model AUC')\n",
    "plt.ylabel('AUC')\n",
    "plt.xlabel('epoch')\n",
    "plt.legend(['train', 'test'], loc='upper left')\n",
    "plt.show()\n",
    "# summarize history for loss\n",
    "plt.plot(history_3.history['loss'])\n",
    "plt.plot(history_3.history['val_loss'])\n",
    "plt.title('MobileNetV2 model loss')\n",
    "plt.ylabel('loss')\n",
    "plt.xlabel('epoch')\n",
    "plt.legend(['train', 'test'], loc='upper left')\n",
    "plt.show()"
   ]
  },
  {
   "cell_type": "code",
   "execution_count": 155,
   "id": "87f0262e-1838-44b4-8a7f-04232ceea9f3",
   "metadata": {
    "ExecuteTime": {
     "end_time": "2023-05-19T06:23:42.315808Z",
     "start_time": "2023-05-19T06:23:42.296731Z"
    }
   },
   "outputs": [
    {
     "name": "stdout",
     "output_type": "stream",
     "text": [
      "Confusion matrix:  [[2957  298]\n",
      " [  15  243]]\n",
      "Accuracy:  0.9109023626530032\n",
      "ROC-AUC:  0.9251545029114421\n",
      "Precision:  0.4491682070240296\n",
      "Recall:  0.9418604651162791\n",
      "F1-Score:  0.6082603254067585\n"
     ]
    }
   ],
   "source": [
    "# y_pred is the array of predicted probabilities\n",
    "y_pred_binary3 = (y_pred3 > 0.5).astype(int)\n",
    "\n",
    "# Generate confusion matrix for the predictions\n",
    "conf_matrix3 = confusion_matrix(y_test3, y_pred_binary3)\n",
    "accuracy3 = accuracy_score(y_test3, y_pred_binary3)\n",
    "roc_auc3 = roc_auc_score(y_test3, y_pred_binary3)\n",
    "precision3 = precision_score(y_test3, y_pred_binary3)\n",
    "recall3 = recall_score(y_test3, y_pred_binary3)\n",
    "f13 = f1_score(y_test3, y_pred_binary3)\n",
    "\n",
    "print(\"Confusion matrix: \", conf_matrix3)\n",
    "print(\"Accuracy: \", accuracy3)\n",
    "print(\"ROC-AUC: \", roc_auc3)\n",
    "print(\"Precision: \", precision3)\n",
    "print(\"Recall: \", recall3)\n",
    "print(\"F1-Score: \", f13)"
   ]
  },
  {
   "cell_type": "code",
   "execution_count": 107,
   "id": "93c399f9",
   "metadata": {
    "ExecuteTime": {
     "end_time": "2023-05-18T17:44:16.124146Z",
     "start_time": "2023-05-18T17:44:16.058837Z"
    }
   },
   "outputs": [
    {
     "data": {
      "image/png": "[encoded data removed]",
      "text/plain": [
       "<Figure size 640x480 with 1 Axes>"
      ]
     },
     "metadata": {},
     "output_type": "display_data"
    }
   ],
   "source": [
    "fig, ax = plt.subplots()\n",
    "\n",
    "# Create a heatmap\n",
    "sns.heatmap(conf_matrix3, annot=True, fmt='d', ax=ax, cmap='Blues', cbar=False)\n",
    "\n",
    "# Set labels, title, and ticks\n",
    "ax.set_xlabel('Predicted labels')\n",
    "ax.set_ylabel('True labels')\n",
    "ax.set_title('Confusion Matrix')\n",
    "ax.xaxis.set_ticklabels(class_names)\n",
    "ax.yaxis.set_ticklabels(class_names)\n",
    "\n",
    "plt.show()"
   ]
  },
  {
   "cell_type": "code",
   "execution_count": 302,
   "id": "8242afd1",
   "metadata": {
    "ExecuteTime": {
     "end_time": "2023-05-18T14:53:47.209424Z",
     "start_time": "2023-05-18T14:53:47.193186Z"
    },
    "scrolled": true
   },
   "outputs": [
    {
     "name": "stdout",
     "output_type": "stream",
     "text": [
      "Specificity :  0.919815668202765\n"
     ]
    }
   ],
   "source": [
    "# Calculating the specificity\n",
    "TN = conf_matrix3[0,0]\n",
    "FP = conf_matrix3[0,1]\n",
    "\n",
    "specificity3 = TN / (TN + FP)\n",
    "\n",
    "print('Specificity : ', specificity3)"
   ]
  },
  {
   "cell_type": "code",
   "execution_count": null,
   "id": "75b3cf97",
   "metadata": {},
   "outputs": [],
   "source": [
    "preds_vgg16 = model_1.predict(test_generator)\n",
    "preds_resnet50 = model_2.predict(test_generator2)\n",
    "preds_mobilenetv2 = model_3.predict(test_generator3)"
   ]
  },
  {
   "cell_type": "markdown",
   "id": "24b96951",
   "metadata": {},
   "source": [
    "# Ensembling Models"
   ]
  },
  {
   "cell_type": "code",
   "execution_count": 179,
   "id": "8b5b41ec",
   "metadata": {
    "ExecuteTime": {
     "end_time": "2023-05-19T07:05:08.240192Z",
     "start_time": "2023-05-19T07:05:07.147259Z"
    }
   },
   "outputs": [
    {
     "name": "stdout",
     "output_type": "stream",
     "text": [
      "Found 28100 validated image filenames belonging to 2 classes.\n",
      "Found 3513 validated image filenames belonging to 2 classes.\n",
      "Found 3513 validated image filenames belonging to 2 classes.\n"
     ]
    }
   ],
   "source": [
    "train_data_gen4 = ImageDataGenerator(\n",
    "      rescale=1./255\n",
    ")\n",
    "\n",
    "validation_data_gen4 = ImageDataGenerator(\n",
    "      rescale=1./255\n",
    ")\n",
    "\n",
    "# Create a generator for training data\n",
    "train_generator4 = train_data_gen4.flow_from_dataframe(\n",
    "    df_train,    # Provide DataFrame here\n",
    "    x_col='image_path',    # Column in df_train that contains the full path to each image\n",
    "    y_col='target',    # Column in df_train that contains the labels\n",
    "    target_size=(configs.img_size),\n",
    "    batch_size=configs.batch_size,\n",
    "    class_mode='binary',\n",
    "    shuffle=True\n",
    ")\n",
    "\n",
    "# Create a generator for validation data\n",
    "validation_generator4 = validation_data_gen4.flow_from_dataframe(\n",
    "    df_val,    # Provide DataFrame here\n",
    "    x_col='image_path',    # Column in df_val that contains the full path to each image\n",
    "    y_col='target',    # Column in df_val that contains the labels\n",
    "    target_size=(configs.img_size),\n",
    "    batch_size=configs.batch_size,\n",
    "    class_mode='binary',\n",
    "    shuffle=True\n",
    ")\n",
    "\n",
    "test_datagen4 = ImageDataGenerator(\n",
    "      rescale=1./255\n",
    ")\n",
    "\n",
    "test_generator4 = test_datagen4.flow_from_dataframe(\n",
    "    df_test,    # Provide DataFrame here\n",
    "    x_col='image_path',    # Column in df_val that contains the full path to each image\n",
    "    y_col='target',    # Column in df_val that contains the labels\n",
    "    target_size=(configs.img_size),\n",
    "    batch_size=configs.batch_size,\n",
    "    class_mode='binary',\n",
    "    shuffle=False\n",
    ")"
   ]
  },
  {
   "cell_type": "code",
   "execution_count": 200,
   "id": "bd06501c",
   "metadata": {
    "ExecuteTime": {
     "end_time": "2023-05-19T07:59:00.104746Z",
     "start_time": "2023-05-19T07:58:58.997261Z"
    }
   },
   "outputs": [
    {
     "name": "stdout",
     "output_type": "stream",
     "text": [
      "Found 28100 validated image filenames belonging to 2 classes.\n",
      "Found 3513 validated image filenames belonging to 2 classes.\n",
      "Found 3513 validated image filenames belonging to 2 classes.\n"
     ]
    }
   ],
   "source": [
    "train_data_gen4 = ImageDataGenerator(\n",
    "    preprocessing_function=preprocess_input\n",
    ")\n",
    "\n",
    "validation_data_gen4 = ImageDataGenerator(\n",
    "    preprocessing_function=preprocess_input\n",
    ")\n",
    "\n",
    "# Create a generator for training data\n",
    "train_generator4 = train_data_gen4.flow_from_dataframe(\n",
    "    df_train,    # Provide DataFrame here\n",
    "    x_col='image_path',    # Column in df_train that contains the full path to each image\n",
    "    y_col='target',    # Column in df_train that contains the labels\n",
    "    target_size=(configs.img_size),\n",
    "    batch_size=configs.batch_size,\n",
    "    class_mode='binary',\n",
    "    shuffle=True\n",
    ")\n",
    "\n",
    "# Create a generator for validation data\n",
    "validation_generator4 = validation_data_gen4.flow_from_dataframe(\n",
    "    df_val,    # Provide DataFrame here\n",
    "    x_col='image_path',    # Column in df_val that contains the full path to each image\n",
    "    y_col='target',    # Column in df_val that contains the labels\n",
    "    target_size=(configs.img_size),\n",
    "    batch_size=configs.batch_size,\n",
    "    class_mode='binary',\n",
    "    shuffle=True\n",
    ")\n",
    "\n",
    "test_datagen4 = ImageDataGenerator(\n",
    "    preprocessing_function=preprocess_input\n",
    ")\n",
    "\n",
    "test_generator4 = test_datagen4.flow_from_dataframe(\n",
    "    df_test,    # Provide DataFrame here\n",
    "    x_col='image_path',    # Column in df_val that contains the full path to each image\n",
    "    y_col='target',    # Column in df_val that contains the labels\n",
    "    target_size=(configs.img_size),\n",
    "    batch_size=configs.batch_size,\n",
    "    class_mode='binary',\n",
    "    shuffle=False\n",
    ")"
   ]
  },
  {
   "cell_type": "code",
   "execution_count": 204,
   "id": "a8d2ee6e",
   "metadata": {
    "ExecuteTime": {
     "end_time": "2023-05-19T08:08:56.098348Z",
     "start_time": "2023-05-19T08:06:13.411026Z"
    },
    "scrolled": true
   },
   "outputs": [
    {
     "name": "stdout",
     "output_type": "stream",
     "text": [
      "440/440 [==============================] - 65s 148ms/step\n",
      "55/55 [==============================] - 8s 147ms/step\n",
      "440/440 [==============================] - 51s 116ms/step\n",
      "55/55 [==============================] - 6s 115ms/step\n",
      "440/440 [==============================] - 28s 63ms/step\n",
      "55/55 [==============================] - 3s 63ms/step\n"
     ]
    }
   ],
   "source": [
    "\n",
    "vgg16 = KerasMember(name=\"vgg16\", keras_model=model_1, train_batches=train_generator4, val_batches=validation_generator4)\n",
    "resnet50 = KerasMember(name=\"resnet50\", keras_model=model_2, train_batches=train_generator4, val_batches=validation_generator4)\n",
    "mobilenetv2 = KerasMember(name=\"mobilenetv2\", keras_model=model_3, train_batches=train_generator4, val_batches=validation_generator4)"
   ]
  },
  {
   "cell_type": "code",
   "execution_count": 201,
   "id": "d84abfbf",
   "metadata": {
    "ExecuteTime": {
     "end_time": "2023-05-19T08:01:43.694281Z",
     "start_time": "2023-05-19T07:59:03.400112Z"
    },
    "scrolled": true
   },
   "outputs": [
    {
     "name": "stderr",
     "output_type": "stream",
     "text": [
      "C:\\Users\\MartinDesktop\\anaconda3\\envs\\tf_gpu\\lib\\site-packages\\deepstack\\base.py:147: UserWarning: `Model.predict_generator` is deprecated and will be removed in a future version. Please use `Model.predict`, which supports generators.\n",
      "  return self.model.predict_generator(\n"
     ]
    },
    {
     "name": "stdout",
     "output_type": "stream",
     "text": [
      "440/440 [==============================] - 64s 146ms/step\n",
      "55/55 [==============================] - 8s 146ms/step\n",
      "440/440 [==============================] - 50s 112ms/step\n",
      "55/55 [==============================] - 6s 110ms/step\n",
      "440/440 [==============================] - 28s 62ms/step\n",
      "55/55 [==============================] - 4s 65ms/step\n"
     ]
    }
   ],
   "source": [
    "from deepstack.base import KerasMember\n",
    "vgg19_feature = Model(inputs=model_1.input, outputs=model_1.get_layer('global_average_pooling2d_3').output)\n",
    "vgg19 = KerasMember(name=\"vgg19\", keras_model=vgg19_feature, train_batches=train_generator4, val_batches=validation_generator4)\n",
    "\n",
    "resnet50_feature = Model(inputs=model_2.input, outputs=model_2.get_layer('dense_29').output)\n",
    "resnet50 = KerasMember(name=\"resnet50\", keras_model=resnet50_feature, train_batches=train_generator4, val_batches=validation_generator4)\n",
    "\n",
    "mobilenetv2_feature = Model(inputs=model_3.input, outputs=model_3.get_layer('dense_10').output)\n",
    "mobilenetv2 = KerasMember(name=\"mobilenetv2\", keras_model=mobilenetv2_feature, train_batches=train_generator4, val_batches=validation_generator4)\n"
   ]
  },
  {
   "cell_type": "code",
   "execution_count": 205,
   "id": "e08da0e5",
   "metadata": {
    "ExecuteTime": {
     "end_time": "2023-05-19T08:10:01.994884Z",
     "start_time": "2023-05-19T08:09:56.759301Z"
    }
   },
   "outputs": [
    {
     "data": {
      "text/plain": [
       "<StackEnsemble: [vgg16, resnet50, mobilenetv2]>"
      ]
     },
     "execution_count": 205,
     "metadata": {},
     "output_type": "execute_result"
    }
   ],
   "source": [
    "from deepstack.ensemble import StackEnsemble\n",
    "from sklearn.linear_model import LogisticRegression\n",
    "from sklearn.ensemble import StackingClassifier, RandomForestClassifier, ExtraTreesClassifier\n",
    "from sklearn.tree import DecisionTreeClassifier\n",
    "\n",
    "stack = StackEnsemble()\n",
    "\n",
    "# 2nd Level Meta-Learner\n",
    "estimators = [\n",
    "    ('rf', RandomForestClassifier(verbose=0, n_estimators=100, max_depth=15, n_jobs=20, min_samples_split=30)),\n",
    "    ('etr', ExtraTreesClassifier(verbose=0, n_estimators=100, max_depth=10, n_jobs=20, min_samples_split=20)),\n",
    "    ('dtc',DecisionTreeClassifier(random_state=0, max_depth=3))\n",
    "]\n",
    "# 3rd Level Meta-Learner\n",
    "clf = StackingClassifier(\n",
    "    estimators=estimators, final_estimator=LogisticRegression()\n",
    ")\n",
    "\n",
    "stack.model = clf\n",
    "stack.add_members([vgg16, resnet50, mobilenetv2])\n",
    "f = stack.fit()\n",
    "stack.save()"
   ]
  },
  {
   "cell_type": "code",
   "execution_count": 206,
   "id": "d23b1511",
   "metadata": {
    "ExecuteTime": {
     "end_time": "2023-05-19T08:10:21.651077Z",
     "start_time": "2023-05-19T08:10:21.383886Z"
    },
    "scrolled": false
   },
   "outputs": [
    {
     "name": "stdout",
     "output_type": "stream",
     "text": [
      "Calling predict\n",
      "vgg16 - accuracy_score: 0.1375\n",
      "resnet50 - accuracy_score: 0.0064\n",
      "mobilenetv2 - accuracy_score: 0.3581\n",
      "StackEnsemble accuracy_score: 0.9940\n",
      "Accuracy 0.9940222032450897\n",
      "\n",
      "Calling predict\n",
      "vgg16 - roc_auc_score: 0.8625\n",
      "resnet50 - roc_auc_score: 0.9936\n",
      "mobilenetv2 - roc_auc_score: 0.6419\n",
      "StackEnsemble roc_auc_score: 0.9843\n",
      "AUC 0.9843352879615941\n",
      "\n",
      "Calling predict\n",
      "vgg16 - precision_score: 0.1375\n",
      "resnet50 - precision_score: 0.0064\n",
      "mobilenetv2 - precision_score: 0.3581\n",
      "StackEnsemble precision_score: 0.9474\n",
      "Precision 0.9473684210526315\n",
      "\n",
      "Calling predict\n",
      "vgg16 - recall_score: 0.1375\n",
      "resnet50 - recall_score: 0.0064\n",
      "mobilenetv2 - recall_score: 0.3581\n",
      "StackEnsemble recall_score: 0.9730\n",
      "Recall 0.972972972972973\n",
      "\n",
      "Calling predict\n",
      "vgg16 - f1_score: 0.1375\n",
      "resnet50 - f1_score: 0.0064\n",
      "mobilenetv2 - f1_score: 0.3581\n",
      "StackEnsemble f1_score: 0.9600\n",
      "F1 Score 0.9599999999999999\n"
     ]
    }
   ],
   "source": [
    "#print(\"Confusion Matrix\",stack.describe(metric=sklearn.metrics.confusion_matrix))\n",
    "print(\"Accuracy\",stack.describe(metric=sklearn.metrics.accuracy_score))\n",
    "print(\"\")\n",
    "print(\"AUC\",stack.describe(metric=sklearn.metrics.roc_auc_score))\n",
    "print(\"\")\n",
    "print(\"Precision\",stack.describe(metric=sklearn.metrics.precision_score))\n",
    "print(\"\")\n",
    "print(\"Recall\",stack.describe(metric=sklearn.metrics.recall_score))\n",
    "print(\"\")\n",
    "print(\"F1 Score\",stack.describe(metric=sklearn.metrics.f1_score))"
   ]
  },
  {
   "cell_type": "code",
   "execution_count": null,
   "id": "2b1d19e9",
   "metadata": {},
   "outputs": [],
   "source": []
  }
 ],
 "metadata": {
  "kernelspec": {
   "display_name": "Python 3 (ipykernel)",
   "language": "python",
   "name": "python3"
  },
  "language_info": {
   "codemirror_mode": {
    "name": "ipython",
    "version": 3
   },
   "file_extension": ".py",
   "mimetype": "text/x-python",
   "name": "python",
   "nbconvert_exporter": "python",
   "pygments_lexer": "ipython3",
   "version": "3.9.16"
  }
 },
 "nbformat": 4,
 "nbformat_minor": 5
}
